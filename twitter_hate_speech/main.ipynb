{
 "cells": [
  {
   "attachments": {},
   "cell_type": "markdown",
   "metadata": {},
   "source": [
    "# Dataset Used\n",
    "### Twitter-hate-speech\n",
    "<a href='https://www.kaggle.com/datasets/vkrahul/twitter-hate-speech?select=train_E6oV3lV.csv' >Download from here</a>"
   ]
  },
  {
   "cell_type": "code",
   "execution_count": 33,
   "metadata": {},
   "outputs": [
    {
     "name": "stdout",
     "output_type": "stream",
     "text": [
      "Skipping, found downloaded files in \".\\twitter-hate-speech\" (use force=True to force download)\n"
     ]
    }
   ],
   "source": [
    "import opendatasets as od\n",
    "od.download('https://www.kaggle.com/datasets/vkrahul/twitter-hate-speech?select=train_E6oV3lV.csv')"
   ]
  },
  {
   "attachments": {},
   "cell_type": "markdown",
   "metadata": {},
   "source": [
    "# Importing Required Libraries"
   ]
  },
  {
   "cell_type": "code",
   "execution_count": 34,
   "metadata": {},
   "outputs": [],
   "source": [
    "import pandas as pd\n",
    "import re\n",
    "import numpy as np\n",
    "import nltk\n",
    "from nltk.corpus import stopwords\n",
    "from tqdm import tqdm\n",
    "from sklearn.feature_extraction.text import CountVectorizer\n",
    "from sklearn.feature_extraction.text import TfidfVectorizer\n",
    "from gensim.models import Word2Vec\n",
    "from sklearn.linear_model import LogisticRegression\n",
    "from sklearn.tree import DecisionTreeClassifier\n",
    "from sklearn.neighbors import KNeighborsClassifier\n",
    "from sklearn.ensemble import RandomForestClassifier\n",
    "from sklearn.model_selection import train_test_split"
   ]
  },
  {
   "cell_type": "code",
   "execution_count": 35,
   "metadata": {},
   "outputs": [],
   "source": [
    "# use nltk.download()\n",
    "# nltk.download()\n",
    "# download all or required ones"
   ]
  },
  {
   "cell_type": "code",
   "execution_count": 36,
   "metadata": {},
   "outputs": [],
   "source": [
    "lemitizer = nltk.stem.WordNetLemmatizer()\n",
    "stop_word = stopwords.words('english')"
   ]
  },
  {
   "cell_type": "code",
   "execution_count": 37,
   "metadata": {},
   "outputs": [],
   "source": [
    "df = pd.read_csv('twitter-hate-speech/train_E6oV3lV.csv')"
   ]
  },
  {
   "cell_type": "code",
   "execution_count": 38,
   "metadata": {},
   "outputs": [],
   "source": [
    "df = df.drop(columns=['id'],axis=-1)"
   ]
  },
  {
   "cell_type": "code",
   "execution_count": 39,
   "metadata": {},
   "outputs": [
    {
     "data": {
      "text/html": [
       "<div>\n",
       "<style scoped>\n",
       "    .dataframe tbody tr th:only-of-type {\n",
       "        vertical-align: middle;\n",
       "    }\n",
       "\n",
       "    .dataframe tbody tr th {\n",
       "        vertical-align: top;\n",
       "    }\n",
       "\n",
       "    .dataframe thead th {\n",
       "        text-align: right;\n",
       "    }\n",
       "</style>\n",
       "<table border=\"1\" class=\"dataframe\">\n",
       "  <thead>\n",
       "    <tr style=\"text-align: right;\">\n",
       "      <th></th>\n",
       "      <th>label</th>\n",
       "      <th>tweet</th>\n",
       "    </tr>\n",
       "  </thead>\n",
       "  <tbody>\n",
       "    <tr>\n",
       "      <th>0</th>\n",
       "      <td>0</td>\n",
       "      <td>@user when a father is dysfunctional and is s...</td>\n",
       "    </tr>\n",
       "    <tr>\n",
       "      <th>1</th>\n",
       "      <td>0</td>\n",
       "      <td>@user @user thanks for #lyft credit i can't us...</td>\n",
       "    </tr>\n",
       "    <tr>\n",
       "      <th>2</th>\n",
       "      <td>0</td>\n",
       "      <td>bihday your majesty</td>\n",
       "    </tr>\n",
       "    <tr>\n",
       "      <th>3</th>\n",
       "      <td>0</td>\n",
       "      <td>#model   i love u take with u all the time in ...</td>\n",
       "    </tr>\n",
       "    <tr>\n",
       "      <th>4</th>\n",
       "      <td>0</td>\n",
       "      <td>factsguide: society now    #motivation</td>\n",
       "    </tr>\n",
       "  </tbody>\n",
       "</table>\n",
       "</div>"
      ],
      "text/plain": [
       "   label                                              tweet\n",
       "0      0   @user when a father is dysfunctional and is s...\n",
       "1      0  @user @user thanks for #lyft credit i can't us...\n",
       "2      0                                bihday your majesty\n",
       "3      0  #model   i love u take with u all the time in ...\n",
       "4      0             factsguide: society now    #motivation"
      ]
     },
     "execution_count": 39,
     "metadata": {},
     "output_type": "execute_result"
    }
   ],
   "source": [
    "df.head()"
   ]
  },
  {
   "attachments": {},
   "cell_type": "markdown",
   "metadata": {},
   "source": [
    "# Cleaning Data"
   ]
  },
  {
   "cell_type": "code",
   "execution_count": 40,
   "metadata": {},
   "outputs": [],
   "source": [
    "def clean_tweet(text):\n",
    "    global lemitizer , stop_word\n",
    "    text = re.sub(r'@\\w*', ' ' , text)\n",
    "    text = re.sub(r'#\\w*', ' ' , text)\n",
    "    text = re.sub(r\"'s\\b\", \"\", text)\n",
    "    text = re.sub(r\"[^a-zA-Z0-9\\s]\", ' ', text)\n",
    "    text = text.lower()\n",
    "    text = nltk.word_tokenize(text)\n",
    "    text = [w  for w in text if w not in stop_word]\n",
    "    text = [lemitizer.lemmatize(w) for w in text]\n",
    "    return text"
   ]
  },
  {
   "cell_type": "code",
   "execution_count": 41,
   "metadata": {},
   "outputs": [],
   "source": [
    "df['tweet'] = df['tweet'].apply(clean_tweet)"
   ]
  },
  {
   "cell_type": "code",
   "execution_count": 42,
   "metadata": {},
   "outputs": [
    {
     "data": {
      "text/html": [
       "<div>\n",
       "<style scoped>\n",
       "    .dataframe tbody tr th:only-of-type {\n",
       "        vertical-align: middle;\n",
       "    }\n",
       "\n",
       "    .dataframe tbody tr th {\n",
       "        vertical-align: top;\n",
       "    }\n",
       "\n",
       "    .dataframe thead th {\n",
       "        text-align: right;\n",
       "    }\n",
       "</style>\n",
       "<table border=\"1\" class=\"dataframe\">\n",
       "  <thead>\n",
       "    <tr style=\"text-align: right;\">\n",
       "      <th></th>\n",
       "      <th>label</th>\n",
       "      <th>tweet</th>\n",
       "    </tr>\n",
       "  </thead>\n",
       "  <tbody>\n",
       "    <tr>\n",
       "      <th>0</th>\n",
       "      <td>0</td>\n",
       "      <td>[father, dysfunctional, selfish, drag, kid, dy...</td>\n",
       "    </tr>\n",
       "    <tr>\n",
       "      <th>1</th>\n",
       "      <td>0</td>\n",
       "      <td>[thanks, credit, use, cause, offer, wheelchair...</td>\n",
       "    </tr>\n",
       "    <tr>\n",
       "      <th>2</th>\n",
       "      <td>0</td>\n",
       "      <td>[bihday, majesty]</td>\n",
       "    </tr>\n",
       "    <tr>\n",
       "      <th>3</th>\n",
       "      <td>0</td>\n",
       "      <td>[love, u, take, u, time, ur]</td>\n",
       "    </tr>\n",
       "    <tr>\n",
       "      <th>4</th>\n",
       "      <td>0</td>\n",
       "      <td>[factsguide, society]</td>\n",
       "    </tr>\n",
       "  </tbody>\n",
       "</table>\n",
       "</div>"
      ],
      "text/plain": [
       "   label                                              tweet\n",
       "0      0  [father, dysfunctional, selfish, drag, kid, dy...\n",
       "1      0  [thanks, credit, use, cause, offer, wheelchair...\n",
       "2      0                                  [bihday, majesty]\n",
       "3      0                       [love, u, take, u, time, ur]\n",
       "4      0                              [factsguide, society]"
      ]
     },
     "execution_count": 42,
     "metadata": {},
     "output_type": "execute_result"
    }
   ],
   "source": [
    "df.head()"
   ]
  },
  {
   "cell_type": "code",
   "execution_count": 43,
   "metadata": {},
   "outputs": [
    {
     "data": {
      "text/plain": [
       "label    0\n",
       "tweet    0\n",
       "dtype: int64"
      ]
     },
     "execution_count": 43,
     "metadata": {},
     "output_type": "execute_result"
    }
   ],
   "source": [
    "df.isnull().sum()"
   ]
  },
  {
   "cell_type": "code",
   "execution_count": 44,
   "metadata": {},
   "outputs": [],
   "source": [
    "tweets = []\n",
    "for i in df['tweet']:\n",
    "    tweets.append(' '.join(i))\n",
    "label = df['label']"
   ]
  },
  {
   "cell_type": "code",
   "execution_count": 45,
   "metadata": {},
   "outputs": [
    {
     "data": {
      "text/plain": [
       "['father dysfunctional selfish drag kid dysfunction',\n",
       " 'thanks credit use cause offer wheelchair van pdx',\n",
       " 'bihday majesty',\n",
       " 'love u take u time ur',\n",
       " 'factsguide society']"
      ]
     },
     "execution_count": 45,
     "metadata": {},
     "output_type": "execute_result"
    }
   ],
   "source": [
    "tweets[:5]"
   ]
  },
  {
   "attachments": {},
   "cell_type": "markdown",
   "metadata": {},
   "source": [
    "# text to vector    COUNT VECTORIZER (BAG OF WORD)"
   ]
  },
  {
   "cell_type": "code",
   "execution_count": 46,
   "metadata": {},
   "outputs": [],
   "source": [
    "cv = CountVectorizer(max_features=2000)\n",
    "bow_tweet_vectors = cv.fit_transform(tweets)"
   ]
  },
  {
   "attachments": {},
   "cell_type": "markdown",
   "metadata": {},
   "source": [
    "# text to vector    TF-IDF"
   ]
  },
  {
   "cell_type": "code",
   "execution_count": 47,
   "metadata": {},
   "outputs": [],
   "source": [
    "tv = TfidfVectorizer(max_features=2000)\n",
    "tfidf_tweet_vectors = tv.fit_transform(tweets)"
   ]
  },
  {
   "attachments": {},
   "cell_type": "markdown",
   "metadata": {},
   "source": [
    "#  text ro vector Word2Vec"
   ]
  },
  {
   "cell_type": "code",
   "execution_count": 48,
   "metadata": {},
   "outputs": [],
   "source": [
    "model = Word2Vec(df['tweet'],min_count=2)\n"
   ]
  },
  {
   "cell_type": "code",
   "execution_count": 49,
   "metadata": {},
   "outputs": [
    {
     "name": "stdout",
     "output_type": "stream",
     "text": [
      "['day', 'amp', 'u', 'happy', 'love', 'time', 'today', 'like', 'get', 'new', 'one', 'people', 'make', 'life', 'good', 'see', 'go', 'father', 'want', 'take', '2', 'need', 'bihday', 'got', 'week', 'way', 'year', 'bull', 'work', 'going', 'great', 'best', 'thing', 'first', 'know', 'wait', 'really', 'thankful', 'ur', 'back', 'tomorrow', 'come', '3', 'feel', 'think', 'look', 'right', 'never', 'friend', 'world', 'morning', '1', 'much', 'night', 'say', 'sad', 'girl', 'weekend', 'even', 'well', 'always', 'last', 'family', '4', 'next', 'home', 'still', 'finally', 'let', 'find', 'show', 'thank', 'friday', 'tonight', 'gt', 'guy', 'via', 'dad', 'many', 'ready', 'everyone', 'thanks', 'old', 'little', 'na', 'would', 'looking', 'feeling', 'live', 'another', 'ever', 'man', 'getting', 'game', 'bear', 'climb', 'place', 'sta', 'watch', 'woman', 'city', 'stop', 'keep', 'amazing', 'beautiful', 'made', 'sunday', 'every', 'whatever', 'someone', 'tweet', 'might', 'trump', 'god', 'hope', 'polar', 'excited', 'help', 'may', 'hour', '5', 'white', 'black', 'thought', 'coming', 'smile', 'video', 'pay', 'month', 'news', 'school', 'nothing', 'angry', 'free', 'wish', 'w', 'hate', 'summer', 'around', 'better', 'kid', 'lot', 'music', 'n', 'long', '2016', 'found', 'please', 'lt', 'big', 'orlando', 'follow', 'give', 'direct', 'end', 'yes', 'done', 'believe', 'dominate', 'two', 'r', 'soon', 'child', 'word', 'attack', 'away', 'something', 'watching', 'change', 'without', 'miss', 'play', 'forward', 'team', 'waiting', 'baby', 'left', 'face', 'bad', 'real', 'hea', 'lost', 'tear', 'lol', 'fun', 'check', 'oh', 'happiness', 'true', 'racist', 'food', 'playing', 'fan', 'person', 'bing', 'yeah', 'racing', 'nice', '10', 'boy', 'saturday', 'bong', 'could', 'shooting', 'moment', 'book', 'gon', 'job', 'yet', 'everything', '7', 'making', 'b', 'pa', 'hard', 'top', 'leave', 'call', 'stay', 'song', '6', 'enjoy', 'strong', 'post', 'buffalo', 'im', 'sex', 'house', 'lovely', 'try', 'said', 'ticket', 'america', 'living', 'mean', 'awesome', 'gorilla', 'sleep', 'already', 'win', 'country', 'full', 'x', 'head', 'read', 'gun', 'wow', 'story', 'mind', 'v', 'twitter', 'environment', 'monday', 'use', 'listen', 'must', 'meet', 'season', '0', 'simulator', 'adapt', 'shit', 'since', 'tell', 'put', 'june', 'also', 'simulation', 'open', 'mom', 'fuck', 'le', 'poetry', 'conference', 'care', 'body', 'dream', 'buy', 'others', 'enough', 'working', 'hear', 'super', 'matter', 'dog', 'movie', 'hey', 'ppl', 'cold', 'men', 'money', 'state', 'seeing', 'trying', 'anything', 'reason', 'till', 'wonderful', 'gone', 'lead', 'rest', 'came', 'perfect', 'kind', 'side', 'pic', 'dead', 'photo', 'culture', 'tag', 'fact', 'omg', '9', 'almost', 'else', 'far', 'proud', 'high', 'join', 'obama', 'minute', 'event', 'comment', 'delete', 'talk', 'loved', 'wedding', 'holiday', 'race', 'empty', 'point', 'actually', 'victim', 'order', 'sure', 'saw', 'anyone', 'useful', 'young', 'american', 'set', '50', 'act', 'update', 'gift', 'p', 'run', 'remember', 'wrong', 'aww', 'went', 'h', 'beach', 'bed', 'anymore', 'picture', 'yesterday', 'hardcore', 'medium', 'power', '1st', 'cry', 'visit', 'development', '8', 'together', 'happened', 'pretty', 'hair', 'car', 'impoant', 'couple', 'son', 'latest', '20', 'complete', 'gay', '30', 'early', '12', 'sometimes', 'kill', 'hand', 'funny', 'daily', 'break', 'follower', 'ago', 'cause', 'fathersday', 'trip', 'date', 'bird', 'racism', 'loving', 'special', 'business', 'favorite', 'episode', 'peace', 'libtard', 'suppo', 'human', 'hit', 'seen', 'mood', 'name', 'share', 'group', '16', 'arrived', 'cat', 'guess', 'sorry', 'able', 'evening', '15', 'organization', 'stas', 'cute', 'c', 'f', 'later', 'mindset', 'booked', 'ok', 'death', 'star', 'thursday', 'late', 'gbp', 'dear', 'whole', 'target', 'killed', 'fucking', 'ht', 'crazy', 'though', 'final', 'cool', 'cant', 'app', 'become', 'dont', 'e', 'close', 'damn', 'meeting', 'staing', 'sun', 'wednesday', 'seems', 'everyday', 'understand', 'vote', 'daddy', 'saying', 'yay', 'bit', 'forever', 'dance', 'lady', 'begin', 'reached', 'despite', 'single', 'talking', 'yo', 'turn', 'learn', 'bitch', 'parent', 'control', 'customer', 'half', 'heard', 'maybe', 'park', 'taking', 'bring', 'prayer', 'line', 'welcome', 'president', '100', 'july', 'wishing', 'reading', 'truth', 'reach', 'happen', 'as', 'hello', 'source', 'idea', 'safe', 'porn', 'eye', 'phone', 'walk', 'finished', 'forget', 'student', 'problem', 'happening', 'muslim', 'tv', 'choose', 'sign', 'survive', 'wanted', 'history', 'used', 'card', 'list', 'hill', 'wan', 'service', 'called', 'class', 'soul', 'course', 'club', 'vicinity', 'london', 'htt', 'stuff', '11', 'least', 'mountain', 'mother', 'afternoon', 'move', 'daughter', 'l', 'voice', '06', 'present', 'sweet', 'wake', 'shot', 'yr', 'truly', 'send', 'self', 'color', 'officially', 'brother', 'blessed', 'ta', 'account', 'positive', 'sister', 'room', 'view', '2nd', 'lunch', 'save', 'easy', 'worst', 'bought', 'thinking', 'sick', 'issue', 'rip', 'ahead', 'sale', 'task', 'missing', 'health', 'vine', 'along', 'ask', 'tuesday', 'community', 'football', 'suppoers', 'uk', 'police', '3d', 'mass', 'law', 'mine', 'finding', 'co', 'enjoying', 'light', 'past', 'drink', 'alone', 'mr', 'anniversary', 'usd', 'different', 'green', 'fall', 'staed', 'instead', 'using', 'celebrate', 'question', '00', 'plan', 'lucky', 'nigga', 'small', 'agree', 'rather', 'choice', 'folk', 'step', 'second', 'test', 'chase', 'stomping', 'vast', 'behind', 'lose', 'leaving', 'bless', 'stand', 'product', 'needed', 'flight', 'beauty', 'hot', 'tired', 'sound', 'wife', 'conce', 'social', 'bag', 'treat', 'age', '2017', 'wonder', 'gave', 'experience', 'rooster', 'expanse', 'film', 'office', 'glad', 'client', 'oil', 'lie', 'die', 'page', 'low', 'giving', 'red', 'simple', 'nude', 'water', 'blue', 'coffee', 'series', '24', 'travel', 'sexy', 'teen', 'shop', 'violence', 'due', 'future', 'hell', 'flag', 'official', 'freedom', 'exciting', 'member', 'memory', 'local', 'ride', 'husband', 'joke', 'hero', 'luck', 'award', 'hu', 'rain', 'political', 'tragedy', 'sho', 'selfie', 'took', 'national', 'war', 'told', 'fantastic', 'given', 'street', 'secret', 'met', 'running', 'road', 'queen', 'stupid', 'three', 'action', 'busy', 'reality', '13', 'fear', 'vacation', 'la', 'poor', 'fly', 'seriously', 'york', 'died', 'rock', 'training', 'available', 'flower', 'campaign', 'garden', 'spend', 'eat', 'leader', 'session', 'joy', 'quote', 'speak', 'moving', 'listening', 'hillary', 'laugh', 'lover', 'smiling', 'absolutely', 'woh', 'animal', '99', 'literally', 'smh', 'release', 'cheer', 'hi', 'happier', 'probably', 'case', 'return', 'okay', 'hold', 'online', 'message', 'launch', 'opening', 'huge', 'mad', 'xx', 'previous', 'pre', 'album', 'england', 'camp', 'g', 'store', 'euro', 'missed', 'goal', 'inside', 'everybody', 'either', 'gym', 'donald', 'shopping', 'number', 'staff', 'college', 'ordered', 'nation', 'result', 'haha', 'bc', 'chance', 'million', 'realize', 'town', 'walking', 'pray', 'blog', 'internet', 'naked', 'loss', 'sense', 'female', 'tip', 'india', 'congrats', 'beer', 'dinner', 'surprise', 'especially', 'nobody', 'decided', 'da', 'leakage', 'add', '17', 'player', 'calling', 'box', 'towards', 'answer', 'project', 'knew', 'terrorist', 'stage', 'k', 'grow', 'deal', 'ice', 'til', 'company', 'instagram', 'eah', 'totally', 'piece', 'fight', 'foot', 'tried', 'ball', 'dark', 'email', 'key', 'heading', 'celebrating', 'door', 'sunshine', 'finish', 'benefit', 'favourite', 'shoe', 'pussy', 'anti', 'deserve', 'cut', '14', 'bday', 'exactly', 'ness', 'following', 'broke', 'nearly', 'content', 'respect', 'longer', 'pizza', 'liberal', '18', 'min', 'tho', 'public', 'count', 'link', 'price', 'received', 'land', 'born', 'usa', 'role', 'offer', 'stuck', 'level', 'alive', 'august', 'track', 'expect', 'gorgeous', 'adventure', 'dude', '25', 'board', 'match', 'disney', 'florida', 'lord', 'kick', 'outside', 'website', 'politician', 'brand', 'broken', 'planning', 'material', 'dory', 'generation', 'congratulation', 'happens', 'islam', 'facebook', 'ex', 'review', 'christina', 'speech', 'beat', 'weather', 'healthy', 'tool', 'fake', 'fast', 'idiot', 'straight', 'eating', 'near', 'success', 'term', 'web', 'paid', '19', 'breakfast', 'helping', 'trust', 'entire', 'youtube', 'france', 'touch', 'decision', 'passed', 'pop', 'de', 'pain', 'train', 'snapchat', 'allow', 'cover', 'fire', 'pick', 'christmas', 'boyfriend', 'definitely', 'sadly', 'church', 'lack', 'festival', 'system', 'bar', 'front', 'double', 'shame', 'deep', 'st', 'losing', 'ramadan', 'ending', 'horrible', 'watched', 'thats', 'released', 'shoot', 'turned', 'worry', 'played', 'pathetic', 'lyric', 'nail', 'click', 'bro', 'space', 'market', 'apparently', 'bike', 'type', 'spent', 'killing', 'note', 'wtf', 'youth', 'round', 'dress', 'filled', 'hopefully', 'taken', 'within', 'tour', 'sky', 'learning', 'fresh', 'scene', 'wild', 'current', 'worse', 'ya', 'vibe', 'wall', 'michael', 'candidate', 'south', 'claim', 'shift', 'design', 'praying', 'notice', 'google', 'text', 'shi', 'cup', 'cuz', 'keeping', 'flying', 'knowing', 'pig', 'sea', 'wear', 'attention', 'clean', 'bet', 'politics', 'woke', 'mum', 'accept', '70', 'often', 'heal', 'simply', 'brilliant', 'pls', 'air', 'counting', 'disappointed', 'greatest', 'religion', 'biggest', 'emotion', 'risk', 'dancing', 'hotel', 'powerful', 'writing', 'broker', 'actor', 'felt', 'germany', 'sunny', 'cream', 'collection', 'exam', 'tea', 'press', 'hatred', 'rule', 'response', 'winner', 'grimmie', '000', 'style', 'suck', 'lebron', 'mark', 'possible', 'site', 'singing', 'blame', 'hoping', 'performance', 'hr', 'orange', 'married', 'drop', 'sir', 'worked', 'sing', 'fo', 'enemy', 'announce', 'imagine', 'judge', 'beyond', 'accepted', 'record', 'packing', 'stream', 'nba', 'voter', 'fab', 'society', 'john', 'male', 'countdown', 'en', 'king', 'forgot', 'bill', 'rose', 'clearly', 'celebration', 'english', 'breaking', 'opinion', 'growing', 'sent', 'nightclub', 'vandalised', 'heas', 'glass', 'journey', 'weight', '21', 'calm', 'disgusting', 'shout', 'senseless', 'supposed', 'injured', 'condemns', 'bos', 'cake', 'cavs', 'pm', 'adult', 'area', 'christian', 'cock', 'university', 'trending', 'dy', 'hug', 'lil', 'wine', 'tragic', 'robe', 'row', 'jo', 'roll', 'quick', 'factory', 'apple', 'coach', 'band', 'middle', 'finger', 'bout', 'west', 'non', 'republican', 'everywhere', 'relationship', 'grateful', 'create', 'plz', 'afraid', 'chill', 'ignored', 'puppy', '90', 'five', 'spos', 'known', 'brown', 'logins', 'completely', 'gain', 'worker', 'closer', 'wakeup', 'telling', 'fine', 'leaf', 'cox', 'value', 'warm', 'driver', 'graduation', 'bank', 'data', 'building', 'excellent', 'suppoing', 'bottle', 'registered', 'chick', 'relax', 'marriage', 'unfounately', 'alligator', 'realized', 'clinton', 'profile', 'kiss', 'gop', 'waste', 'total', 'reaction', 'murder', 'policy', 'route', 'moon', 'fed', 'crime', 'sma', '3rd', 'teacher', 'difficult', 'arrive', 'cow', 'continue', 'interview', 'clear', 'relaxing', 'repo', 'catch', 'channel', 'si', 'drive', 'friendship', 'terrible', 'clothes', 'appreciate', 'asian', 'arm', 'mile', 'belief', 'sat', 'statement', 'ignorance', 'slow', 'blonde', 'involved', 'centre', 'turning', 'seat', 'cou', 'government', 'abt', 'fat', 'challenge', 'happiest', 'rally', 'excuse', 'diet', 'election', 'negative', 'wing', 'screen', 'united', 'brexit', 'four', 'retweet', 'ha', 'build', 'blocked', 'hearing', 'brain', 'ad', 'islamic', 'paner', 'evil', 'innocent', 'continues', 'govt', 'workshop', 'practice', 'sunset', 'serious', 'makeup', 'materia', 'j', 'doubt', 'plus', 'blood', 'tree', 'drug', 'spread', 'ukhx', 'somebody', 'brought', 'version', 'girlfriend', 'terrorism', 'comic', 'anger', 'heaven', 'lake', 'bye', 'kinda', 'etc', 'island', 'sitting', 'pink', 'ugh', 'jew', 'pool', 'major', 'yoga', 'pride', 'em', 'bernie', 'vega', 'changed', 'september', 'shut', 'int', 'surprised', 'legend', 'situation', 'process', 'asking', 'humanity', 'quality', 'attitude', 'rape', 'rhyme', 'dangerous', 'chair', 'image', 'expectation', 'remedy', 'lesson', 'meal', 'option', 'signed', 'across', 'mp', 'title', 'scared', 'thousand', 'putting', 'fix', 'holding', 'station', 'asked', 'info', 'download', 'african', 'talented', 'mention', 'sharing', 'warrior', 'kingdom', 'anywhere', 'beginning', 'ring', 'tuned', 'bus', 'ten', 'lmao', 'texas', 'san', 'speaker', 'study', 'gator', 'studio', 'ugly', 'posted', 'index', 'fighting', 'strength', 'essential', 'shepherd', 'bigger', 'blessing', '80', 'tough', 'sold', 'fuher', 'interest', 'restaurant', 'reply', '40', 'officer', 'princess', 'successful', 'anne', 'wearing', 'shooter', 'lgbt', 'upset', 'xxx', 'size', 'industry', 'pas', 'seek', 'radio', 'expected', 'except', 'tune', 'form', 'nyc', 'indian', 'advice', 'noh', 'massive', 'workout', 'looked', 'common', 'ally', 'dying', 'agenda', 'ended', 'league', 'theatre', 'mate', 'babe', 'copy', 'letting', 'moved', 'force', 'skin', 'none', 'angel', 'snow', 'airpo', 'chat', 'fair', 'bright', 'normal', 'assault', 'eve', 'anyway', 'jesus', 'cooking', 'detail', 'chicken', 'focus', 'purpose', 'degree', 'sell', 'quite', 'talent', 'fucked', 'buying', 'wh', 'delivery', 'isi', 'driving', 'conservative', 'main', 'fav', 'lying', 'yep', 'proof', 'block', 'career', 'hater', 'rate', 'search', 'wale', 'fasting', 'gig', 'netflix', '22', 'weak', 'education', 'brings', 'poem', 'grand', 'decide', 'caught', 'seem', 'attempt', 'bridge', 'creative', 'print', '60', 'dj', 'murdered', 'pro', 'spring', 'venue', 'swimming', 'staying', 'master', 'aicle', 'pure', 'cousin', 'production', 'fabulous', 'cop', 'tony', 'hospital', 'mini', 'rainbow', 'gold', 'didnt', 'sit', 'incredible', 'packed', 'progress', '49', 'terror', 'affected', 'meant', 'hat', 'paladino', 'dare', 'lip', '27', 'shine', 'becoming', 'table', 'thx', 'sending', 'path', 'jpy', 'easily', 'aist', 'stronger', 'commercial', 'james', 'energy', 'hoe', 'program', 'basis', 'famous', 'based', 'pleasure', 'troll', 'becomes', 'david', 'headed', 'indeed', 'fellow', 'keshi', 'kit', 'global', 'tattoo', 'difference', 'voting', 'dr', 'wrote', 'cross', 'cinema', 'faith', 'materi', 'russia', 'storm', 'balance', '200', 'reminder', 'fox', 'hang', 'friendly', 'europe', 'ig', 'holy', 'stock', 'battle', 'mode', 'shower', 'drunk', 'whe', 'kevin', 'bae', 'charge', 'period', 'ground', 'theme', 'painting', 'hahaha', 'trouble', 'insane', 'prize', 'upcoming', 'punjab', 'fail', 'mistake', 'spain', 'bbc', 'promise', 'papa', 'stunning', 'hole', 'mouth', 'peep', 'trail', 'fam', 'science', 'describe', 'owner', 'remark', 'natural', 'write', 'nominee', 'mirror', 'mail', 'impression', 'wa', 'hungry', 'magic', 'april', 'twice', 'ali', 'fitness', 'crew', 'dick', 'setting', 'stranger', 'held', 'truck', 'prof', 'spending', 'log', 'growth', 'decade', 'plane', 'fr', 'epic', 'spot', 'actual', 'followed', 'michelle', 'ignorant', 'electronic', 'library', 'carl', 'window', 'precious', 'score', 'personalised', 'ireland', 'buddy', 'boat', 'stress', 'ceain', 'village', 'fave', 'downtown', 'stone', 'teach', 'snap', 'dm', 'colour', 'winning', 'purchase', 'remains', 'grade', '26', 'request', 'forecast', 'lately', 'allowed', 'credit', 'com', 'speaking', 'sight', 'tiny', 'creating', 'fully', 'location', 'performing', 'sleeping', 'network', 'heat', 'effo', 'wont', 'blast', 'taste', 'anton', 'cleveland', 'classic', 'promote', 'international', 'suit', '35', 'mexican', 'added', 'host', 'showing', 'smell', 'ki', 'cost', 'chapter', '28', 'waking', 'figure', 'knowledge', 'model', 'condolence', 'fell', 'typical', 'ty', 'dis', 'basic', 'cucumber', 'east', 'contract', 'easier', '500', 'whilst', 'radical', 'false', 'cast', 'skill', 'mama', '11th', 'plant', 'argument', 'drinking', 'e3', 'incredibly', 'thru', 'definition', 'trash', 'ban', 'woohoo', 'honestly', 'hanging', 'acting', 'salad', 'usually', 'spo', 'kitchen', 'six', 'preparing', 'honest', 'george', 'fb', 'remove', 'impact', 'fish', '95', 'trade', 'bestie', 'paris', 'protesting', 'singer', 'rat', 'hockey', 'goodbye', 'noticed', 'inspiration', 'horrific', 'military', 'herbal', 'laughing', 'trend', 'weird', 'reflection', 'crap', 'lee', 'pull', 'vinyl', 'disease', 'standing', 'pulse', 'mi', 'mall', 'comfo', 'btw', 'currently', 'third', 'fit', 'learned', 'planet', 'recent', 'leg', 'schedule', 'bloody', 'mobile', 'bride', 'highest', 'ate', 'address', 'presidential', 'including', 'announcement', 'poster', 'shall', 'computer', 'jealous', 'lazy', 'podcast', 'healing', 'piano', 'interesting', 'perform', 'independent', 'stephen', 'grace', 'yelchin', 'ft', 'binge', 'movement', 'security', 'loser', 'coz', 'nigeria', 'praise', 'mental', 'relevant', 'laughter', '2015', 'paying', 'pet', 'affect', 'con', 'sadness', 'rid', 'director', 'shake', 'flat', 'original', 'sneak', 'employee', 'alarm', 'push', 'deserves', 'fired', 'winter', 'selling', 'karen', 'retail', 'fool', 'paul', 'hide', 'emotional', 'chocolate', 'consumer', 'bio', 'anybody', 'sirf', 'debate', 'basketball', 'picked', 'bitcoin', 'steal', 'presentation', 'giant', 'soo', 'field', 'annual', 'rich', 'alt', 'jan', 'tom', 'citizen', 'ill', 'obsessed', 'agreed', 'hubby', '40404', 'criminal', 'toddler', 'rainy', 'boom', 'ka', 'somewhere', 'pair', 'bastard', 'weapon', 'stick', 'chicago', 'crowd', 'milk', 'code', 'plenty', 'delivered', 'asshole', 'wood', 'protect', 'joe', 'wed', 'lifestyle', 'yea', 'af', '2b', '05', 'bored', 'bomb', 'posting', 'summit', 'raise', 'dumb', 'root', 'inspiring', 'character', 'sa', 'jim', 'guest', 'shock', 'sub', 'interested', 'among', 'center', 'base', 'piss', 'killer', 'hv', 'absolute', '1000', 'trailer', 'failed', 'fashion', 'professional', 'golf', 'poll', 'obviously', 'reso', 'distance', 'jersey', 'avoid', 'eu', 'announces', 'picking', 'racial', 'remain', 'serve', 'sm', 'id', 'fl', 'vendor', 'expensive', 'waited', 'playlist', 'dragon', 'stopped', 'extra', 'excitement', 'apa', 'extremely', 'majority', 'completed', 'enjoyed', 'chip', 'hump', 'caused', 'confirmed', 'toy', 'revolution', 'ashiq', 'checked', 'massacre', 'russian', 'rn', 'created', 'shocked', 'taught', 'dat', 'xbox', 'competition', 'per', 'curry', 'spark', 'access', 'camping', 'regret', 'recovery', 'heabreaking', 'confused', 'freaking', 'silence', 'th', 'escape', 'boot', 'highlight', 'kitty', 'nowadays', 'research', 'delayed', 'destroy', 'swear', 'leak', 'bee', 'iphone', 'doctor', '29', 'mexico', 'selfies', 'ed', 'language', 'lookin', 'denial', 'roof', 'bitter', 'frm', 'suppos', 'laptop', 'load', 'excit', 'matt', 'horse', 'yoy', 'equal', 'embrace', 'mat', 'wasted', 'pack', 'xd', 'frank', 'ignore', 'silly', 'anxiety', 'position', 'forgotten', 'mix', 'pageant', 'alex', 'bih', 'honor', 'polarisation', 'express', 'bliss', 'nature', 'kicked', 'systemic', 'smoke', 'japan', 'fought', 'ruined', 'gf', 'italy', 'factsguide', 'planned', 'aim', 'abuse', 'crack', 'potato', 'depressing', 'idk', 'scum', 'attend', 'delighted', 'allah', 'desire', 'letter', 'recipe', '23', 'poland', 'random', 'wisdom', 'hus', 'depressed', 'former', 'invite', 'hating', 'bob', 'ashamed', 'cm', 'lonely', 'suicide', 'user', 'prove', 'referendum', 'democracy', 'bay', 'choosing', 'barely', 'neighbor', '45', 'fa', 'heabroken', 'genuine', 'bts', 'demo', 'adam', 'somehow', 'al', 'fill', 'gotten', 'exist', 'willing', 'rejected', 'standard', 'incident', 'badly', 'large', 'higher', 'bringing', 'starkes', 'independence', 'jackson', 'lawyer', 'tale', 'funeral', 'anal', 'sigh', 'hardly', 'lit', 'cried', 'manager', 'changing', 'zone', 'draw', 'passing', 'ny', 'menu', 'solve', 'floor', 'athlete', 'likely', '5th', 'manchester', 'british', 'chosen', 'farmer', 'unless', 'possibility', 'hathaway', 'shark', 'wave', 'genocide', 'outfit', 'reunited', 'throw', 'upon', 'mo', 'falling', 'africa', 'closed', 'cuddle', 'funday', 'november', 'yall', 'bunch', 'announced', 'attending', 'violent', 'general', 'pleased', 'awake', 'example', 'bbq', 'whoever', 'cad', 'nut', 'finishing', 'whats', 'raining', 'lied', 'golden', 'faster', 'luv', 'nose', 'stadium', 'minority', 'routine', 'california', '2008', 'gang', 'complaint', 'oppounity', 'ive', 'demand', 'wise', 'protest', 'slowly', 'ji', 'realise', 'pretend', 'ah', 'scream', 'paper', 'appreciation', 'kicking', 'personal', 'range', 'french', 'hashtag', 'mommy', 'congress', '14th', 'oscar', 'bubble', 'logic', 'inc', 'saddest', 'primary', 'clock', 'swing', 'opened', 'musical', 'retweeted', 'canadian', 'childhood', 'reveal', 'showed', 'defense', 'signing', 'quickly', 'potential', '4th', 'lmfao', 'machine', 'grad', 'explain', 'io', 'gov', 'depression', 'jimmy', 'liked', 'semi', 'contact', 'worship', 'throwing', 'average', 'sandy', 'mt', 'ca', 'mon', 'launching', 'sum', 'justice', 'opposition', 'mateen', 'attacked', 'topic', 'illegal', 'ref', 'european', 'soft', 'b4', 'spin', 'finale', 'williams', 'activity', '48', 'japanese', 'guide', 'ass', 'documentary', 'passion', 'delicious', 'bound', 'spirit', 'unhappy', 'hall', 'yummy', 'valley', 'xoxo', 'cheap', 'responsible', 'teaser', 'mil', 'blind', 'speaks', 'drama', 'leading', 'fuhered', 'grandpa', 'usual', 'gb', 'confidence', 'ocean', 'whenever', 'shade', 'correct', 'tweeted', 'traveling', '9th', 'dropped', 'treasure', 'destroyed', 'voted', 'ruin', '6th', 'di', 'bottom', 'tech', 'odd', 'lion', 'ceremony', 'yup', 'korea', 'whoop', 'amount', '2day', 'loose', 'monkey', 'union', 'brave', 'advocate', 'aka', '21st', 'ep', 'awaiting', 'gender', 'lo', 'dc', 'awful', 'domestic', 'written', 'william', 'liar', 'fault', 'breath', 'butt', 'direction', 'canada', 'sake', 'possibly', 'purchased', 'rifle', 'perhaps', 'censorship', 'hateful', 'sexual', 'quiet', 'complain', 'visiting', 'looki', 'boring', 'mid', '6pm', 'scary', 'clue', 'afford', 'nervous', 'anthem', 'covering', 'woot', 'soed', 'refuse', 'logo', 'closing', 'tank', 'filter', 'cheese', 'strawberry', 'twin', 'livelypics', 'camper', 'fella', 'kindness', 'mixed', 'thailand', 'placed', 'dey', 'oitnb', 'ag', 'wee', 'danske', 'pc', 'ibiza', '93', 'atm', 'preview', 'bullshit', 'ear', 'un', 'championship', 'crisis', 'bell', 'advanced', 'travelling', 'goodnight', 'grass', 'graduated', 'mar', 'whether', 'highly', 'amodu', 'msg', 'industrial', 'victory', 'shocking', 'launched', 'paint', 'rise', 'blamed', 'bihdays', 'boston', 'proved', 'confirmation', 'sexist', 'therapy', 'button', 'worldwide', 'pitch', 'river', 'circle', 'tweeting', '42', 'appointment', 'shitty', 'burn', 'premium', 'cafe', 'photography', 'conjuring', 'information', 'pumped', 'entry', '08', 'peek', 'coupon', 'traffic', 'oven', 'thankyou', 'handsome', 'catching', 'jump', 'tupac', 'rude', 'productive', 'habit', 'huh', 'underway', 'christ', 'phase', 'ing', 'sday', 'rough', 'blow', 'internalize', 'oppressive', 'guidance', 'loud', 'greeting', 'nephew', '31', '53', 'according', 'eyed', 'upload', 'quiz', 'destination', 'desperate', 'concept', 'drawing', 'accident', 'ideal', 'item', 'funding', 'prepare', 'seven', 'react', 'champion', 'hip', 'pen', 'deeply', 'engineer', 'acceptable', 'cancelled', 'danger', 'protection', 'wheel', 'begun', 'recognition', 'wit', 'selfish', 'obvious', 'bath', 'bite', 'split', 'nasty', 'surely', 'speed', 'dust', 'remix', 'conversation', 'respected', 'intelligence', '64', 'treatment', 'neighborhood', 'gel', 'rebecca', 'plymouth', 'unbelievable', 'testing', 'doesnt', 'popular', 'coldplay', 'kkk', 'po', 'uncle', 'sept', 'crossed', 'dropping', 'zero', 'giphy', 'retweets', 'nra', 'cancel', 'fbi', 'admit', 'treated', 'hrc', 'exercise', 'struggle', 'repeat', 'diy', 'leeds', 'ran', 'dollar', 'ale', 'wakeuppeopl3', 'ego', 'promoting', 'feedback', 'nightmare', 'oakland', 'goodness', 'enteainment', 'birmingham', 'sydney', 'effective', 'tradition', 'aists', 'raised', 'superb', 'relate', 'bully', 'upside', 'fantasy', 'preparation', 'pub', 'hood', 'amateur', 'heritage', 'grey', 'diego', 'andrew', 'meditation', 'rehearsal', 'immigration', 'personally', 'solution', 'colleague', 'lock', 'trial', 'reminds', 'tax', 'clown', 'reunion', 'scotland', 'active', 'anna', 'negativity', 'graduating', 'differently', 'defending', 'remind', 'bone', 'flip', 'january', 'silent', 'listened', 'engaged', '79', 'kept', 'potus', 'amazon', 'fry', 'vids', 'theater', 'recorded', 'uni', 'fuckin', 'chinese', 'fargo', 'thrown', 'ups', 'staer', 'taco', 'honey', 'scott', 'sway', 'syfy', 'booking', 'prison', 'follows', 'mast', 'cnn', 'guilty', 'equality', 'orientation', 'although', 'sexism', 'refugee', 'spa', 'fuel', 'imagination', 'nick', 'connected', 'utterly', 'trolling', 'considering', 'wwe', 'mentioned', 'billy', 'sculpted', 'fruit', 'sooo', 'background', 'peaceful', 'sweetie', 'nationalist', 'feed', 'trapped', 'sofa', 'inspired', 'era', 'duck', 'arrest', 'condition', 'lad', 'effect', 'caption', 'egg', 'thug', 'kim', 'fred', 'summeime', 'duty', 'ahhh', 'earn', 'boo', 'rant', 'dragged', 'rg', 'pretending', 'gallery', 'cooky', 'rome', 'appletstag', 'overcome', 'smiley', 'safety', 'sock', 'harry', 'bread', 'hype', 'suppoer', 'improve', 'attractive', 'pit', 'unreal', 'rage', 'pound', 'bff', 'carry', 'introduction', 'handle', 'rapist', 'diversity', 'managed', 'bt', 'apology', 'cheat', 'talked', 'bond', 'awhile', 'older', 'measure', 'limited', 'justin', 'premiere', 'limit', 'lay', 'oprah', 'wembley', 'chain', 'writer', 'cc', 'rd', 'playa', 'premier', 'miserable', 'studying', 'prep', 'repostapp', 'rolling', 'mike', 'bang', 'massage', 'remembered', 'basically', 'farm', 'lineup', 'creates', 'bin', 'net', 'rhetoric', 'corruption', 'sentence', 'committed', 'increase', 'adding', 'discovered', 'snack', 'vintage', 'drag', 'beaten', 'lab', 'pocket', 'burning', 'repoer', 'jack', 'humble', 'chris', 'october', 'royal', 'cloud', 'knee', 'quantity', 'blowing', 'century', 'tgif', 'nd', 'bestfriend', 'insult', 'editing', 'grin', 'mug', 'being', 'johnny', 'granted', 'med', 'led', 'onference', 'pal', 'hire', 'miami', 'ace', 'android', 'amen', 'shared', 'jam', 'screwed', 'goody', 'grab', 'saddened', 'zelda', 'whore', 'progressive', 'coolestlifehack', 'drove', 'celebrated', 'courage', 'cd', 'sample', 'gr8', 'owl', 'became', 'havent', '46', 'bracelet', 'saved', 'recording', 'grandma', 'tap', 'factor', 'putin', 'pregnant', 'strike', 'spoke', 'jivemap', 'china', 'irish', 'otherwise', 'regular', 'forgiveness', 'craving', 'ana', 'sweat', 'tribute', 'monster', 'ordinary', 'woo', 'revealed', 'natalie', 'motherfucker', 'promotion', 'suspect', 'central', 'upbeat', 'plain', 'assume', 'swim', 'belong', 'region', 'beta', 'outrage', 'brooklyn', 'nazi', 'cheeky', 'covered', '36', 'clip', 'strip', 'arriving', 'worried', 'bjp', 'everytime', 'surprising', 'pres', 'vanilla', 'tower', 'patience', '2014', 'bot', 'soooo', 'squad', 'warns', 'evidence', 'profiling', 'amsterdam', 'fri', 'shis', 'idol', 'nohern', 'district', 'principle', 'disgusted', 'achieve', 'tall', 'bearer', 'mercy', 'coverage', 'feature', 'impossible', 'regarding', 'producer', 'mission', 'harm', 'blm', 'emergency', 'slice', 'greece', 'teenager', 'updated', 'feeding', 'meanwhile', 'cruise', 'forced', 'leather', 'rep', 'madness', 'hook', 'connection', 'junior', 'receive', 'sacrifice', 'nigger', 'receiving', 'quit', 'jerry', 'multiple', 'us', 'greatness', 'darling', 'suffer', 'garage', 'thomas', 'paradise', 'temple', 'mess', 'ab', 'democrat', 'coast', 'convention', 'edc', 'carrying', 'corrupt', 'newest', 'tie', 'onto', 'vehicle', 'senior', 'cutest', 'fate', 'edinburgh', 'tummy', 'vegan', 'flash', '8th', 'donation', 'wo', 'pup', 'featured', 'monthly', 'useless', 'contain', 'photographer', 'lincoln', 'bonus', 'kscrashcorrectors', 'lang', 'ole', 'package', 'discus', 'conces', 'bloom', 'founate', 'cancer', 'placement', 'grave', 'section', 'trick', 'santa', 'suddenly', 'overweight', 'goodmorning', 'screaming', 'miscegenation', 'cared', 'mindsconsole', 'rbc', 'glorious', 'max', 'sam', 'showcase', 'semitic', 'shairi', 'prince', 'mf', 'throne', 'mouse', 'extremist', 'tan', 'murdering', 'proven', 'teaching', 'genuinely', 'conspiracy', 'pant', 'journalism', 'sushi', 'ipad', 'answered', 'pr', 'repost', 'hindu', 'nonsense', 'corner', 'bounce', 'amendment', 'asks', 'fixed', 'sooooo', 'loosing', 'wet', 'respond', 'heel', 'ache', 'intelligent', 'failure', 'recognize', 'tick', 'jewish', 'lean', 'criticism', '26th', 'invited', 'sauce', 'strange', '4pm', 'tournament', 'provide', 'burger', 'pass', 'label', '20th', 'connect', 'leadership', 'liverpool', 'survey', 'combat', 'faced', 'caring', 'advantage', 'addition', 'dressed', 'journalist', 'alcohol', 'fraud', 'photoshoot', 'earlier', 'regrann', 'script', 'ahhhh', 'individual', 'infinite', 'motivation', 'buzzing', 'fest', 'mature', 'moron', 'camera', 'lyon', 'bunny', 'insight', 'constantly', 'zealand', 'shining', 'frustrated', 'billion', 'ideology', 'casino', 'crooked', 'blanket', 'danny', 'furniture', 'tyler', 'ultimate', 'twait', 'unknown', 'achievement', 'hunger', 'ridiculously', 'knock', 'ben', 'finest', 'ash', 'outdoor', 'goin', 'tight', 'hangout', 'terribly', 'failing', 'rob', 'specie', 'meat', 'conditioning', 'wallet', 'plate', 'enter', 'nap', 'almighty', 'expression', 'commenting', 'stoked', 'pin', 'smith', 'stray', 'patch', 'neighbour', 'shuaibu', 'hamilton', 'advance', 'dive', 'largest', 'ability', 'homeopathic', 'taylor', 'oops', '8pm', 'philip', 'suspected', 'crash', 'status', 'stopping', 'oppounities', 'satisfied', 'represents', 'majesty', 'atmosphere', 'jus', 'doin', 'banned', 'disappointing', 'lipstick', 'brochure', 'maui', 'sorrow', 'horror', 'included', 'mater', 'exhibition', 'woe', 'flow', 'cope', 'browning', 'represent', 'm', 'beside', 'cocktail', 'washington', 'prevents', 'declared', 'cherry', 'acc', 'weekly', 'burnt', 'nah', 'archive', 'km', 'stayed', 'harder', 'depth', 'magical', 'grind', 'soccer', 'defame', '2pm', 'dry', 'louis', 'np', 'emma', 'empathy', 'dealing', '18th', 'civil', 'prom', 'occurred', 'recommend', 'sander', 'outta', 'indigenous', 'balanced', 'suspended', '5pm', 'dawn', 'cameron', 'panel', 'edit', 'consider', 'annoying', 'bf', 'toe', 'increased', 'disneyland', 'anz', 'quotestags', '13th', 'necklace', 'comedy', 'forum', 'pastor', 'dallas', 'german', 'walked', 'crown', 'warning', 'gosh', 'recently', 'hilarious', 'homemade', 'pharrell', 'chilling', 'beep', 'cooper', 'kelly', 'notification', 'boost', 'connecting', 'dan', 'rick', 'museum', 'commitment', 'technology', 'poet', 'fixture', '30pm', '32', 'bleed', 'glamorous', 'swift', 'cheering', 'fails', 'outrageous', 'anf', 'gate', 'blaming', 'feelin', 'captain', 'cloudy', 'chose', 'minded', 'removed', 'optimistic', 'delhi', 'sixty', '101', 'genius', 'feminism', 'pearl', 'propaganda', 'probe', 'heavy', 'programme', 'chief', 'brisk', 'bother', 'ryan', 'swiftly', 'sharpens', 'fang', 'graduate', 'disappointment', 'jeff', 'spectacle', 'originally', 'hired', 'gear', 'cpi', 'dev', 'lane', 'adorable', 'destiny', 'kanye', 'yu', 'dating', 'gaming', 'bonding', 'complaining', 'charging', 'considered', 'newcastle', 'gentle', 'worrying', 'backed', 'wrap', 'baseball', 'witness', 'walker', 'thread', 'mytraining', 'mod', 'branch', 'hd', 'designed', 'cook', 'sand', 'maker', 'ignoring', 'mumbai', 'bowling', 'hav', 'greed', 'earring', 'desk', 'happ', 'pundit', 'steph', 'closest', 'aid', 'activist', 'lisa', 'eek', 'tim', 'tent', 'warren', 'legacy', 'rational', 'figured', 'pushing', 'smoking', 'seed', 'headline', 'employment', 'thriving', 'reflect', 'checking', 'gordie', 'eac', 'sup', 'proper', 'darkness', 'ffs', 'liye', 'brunch', 'grown', 'libey', 'rating', 'dublin', 'causing', 'cleaning', 'disgrace', 'saint', 'shadow', 'draft', 'chef', 'senator', 'patient', 'medical', '2005', 'rider', 'forest', 'broadway', '90th', 'tube', 'guitar', 'mary', 'determined', 'thrilled', 'infographic', '44', 'inner', '25th', 'iq', 'economy', 'repoed', 'vet', '43', 'thi', 'convinced', 'scotiabank', 'doc', 'actress', 'modern', 'expose', 'nite', 'slave', 'parking', 'vile', 'several', 'ibooks', 'streaming', 'pressure', 'dems', 'extremism', 'bathroom', 'reveals', 'ba', 'lame', 'belgium', 'marijuana', 'terrific', 'celebrity', 'younger', 'tee', 'fishing', 'alternatively', 'paicipate', 'omar', 'nt', 'justify', 'patio', 'display', 'historic', 'lasting', 'navy', 'apply', 'endorsement', 'ninja', 'oppa', 'bacon', 'noise', 'whose', '01', 'brutality', 'prob', 'workplace', 'offered', 'classroom', 'dig', 'hoshi', 'institution', 'virginia', 'organic', 'fouh', 'greet', 'providing', 'directly', 'comedian', 'comprehend', 'dump', 'resist', 'rush', 'patiently', 'passionate', 'melbourne', 'however', 'whisky', 'elected', 'greek', 'nurse', 'seemed', 'tend', 'appears', 'cage', 'str', 'teeth', 'bron', 'champ', 'smash', '700', 'sheet', 'wanting', 'stepping', 'romantic', 'shameful', 'circumstance', 'required', 'fee', 'aug', 'march', 'named', 'curb', 'peak', 'joining', 'memorial', 'arrives', 'defeated', 'asset', 'payday', 'defeat', 'adele', 'trusted', 'emoji', 'ooh', 'creativity', 'profession', 'returned', 'battlefield', 'punishment', 'negro', 'australia', 'messed', 'reverse', 'deliver', 'earned', 'sandwich', 'ape', 'regardless', 'potter', 'toward', 'wondering', 'spoiler', 'deck', 'shape', 'italian', 'naturally', 'bucket', 'feminist', 'del', 'xmas', 'includes', 'accepting', 'foreign', 'silver', 'noon', 'closet', 'pple', 'hawaii', 'sana', 'cure', 'settlement', 'teammate', 'sensitive', 'ski', 'offering', 'recognizing', 'gearing', 'glasgow', 'dummy', 'allowing', 'expressing', 'sickening', 'carpet', 'brazil', 'suffering', 'universal', 'phelps', 'leaked', 'daniel', 'collage', 'server', '1q', 'square', '17th', 'conclusion', 'managing', 'charles', 'recovers', 'q', 'modi', 'viewing', 'weaker', 'li', '2012', 'finn', 'searching', 'brussels', 'irony', 'priority', 'reward', 'harmony', 'semester', 'monthsary', 'provides', 'protecting', 'qualified', 'jon', 'kitten', 'application', 'madrid', 'bias', 'threat', 'lily', 'flop', 'nailed', 'donkey', 'slip', 'bk', 'ukraine', 'concern', 'asleep', 'backyard', 'personality', 'palette', 'momma', 'refund', 'gary', 'hosting', 'palestinian', 'ridiculous', 'mud', 'outlet', 'remembering', 'joking', 'nope', 'ceainly', 'feat', 'digging', 'gutted', 'maryland', 'besties', 'mac', 'confirm', 'trophy', '30am', 'disorder', 'gen', 'edition', 'ho', 'creation', 'wi', 'bruh', 'selected', 'joined', 'woop', 'cape', 'succeed', '15pm', 'gossip', 'unity', 'dozen', 'legal', 'lower', 'encouragement', 'lived', 'platform', 'ku', 'simon', '10k', 'wounded', 'accent', 'badge', 'grief', 'juice', 'sunglass', 'abandoned', 'transition', 'cracker', 'wenger', 'macbook', 'impoance', 'cheesy', 'perfectly', 'appreciated', 'stanley', 'believing', 'scientist', 'brithday', 'thumb', 'gentleman', 'hurry', 'aint', 'heck', 'pilot', 'tokyo', 'liam', 'acceptance', 'smdh', 'salute', 'riding', 'damage', 'myth', 'bum', 'neutral', 'relative', 'peter', 'jay', 'western', 'universe', 'ps4', 'separate', 'wth', 'viral', 'rare', 'poman', 'overall', 'aunt', 'conduct', 'legendary', 'est', 'integral', 'elizabeth', 'neither', 'recovered', 'retro', 'cereal', 'perspective', 'opera', 'upgrade', 'lounge', 'hbd', '75', 'knocked', 'disturbing', 'classy', 'katie', 'explains', 'unchanged', 'homework', 'fancy', 'bn', 'numb', 'um', 'brainwashed', 'inflation', 'ie', 'latepost', 'halfway', 'financial', 'laziness', 'corporate', 'mccain', 'contestant', 'blicqer', 'management', 'investment', 'tommorow', 'dictionary', 'passenger', 'bullying', '52', 'hated', 'brighten', 'sticker', 'marathon', 'phd', 'injustice', 'solid', 'password', 'attraction', 'alright', 'preach', 'shane', 'appeal', 'stomach', 'bihdaysway', 'nowlinkup', 'constitutional', 'filming', 'kidding', 'goat', 'compare', 'experiencing', 'devil', 'wilson', '24th', 'dustin', 'johnson', 'mentor', 'arabic', 'eyebrow', 'wig', 'nowhere', 'dave', 'wash', 'op', 'pie', 'sentiment', 'wage', '38', '600', 'settle', 'agency', 'lumpy', 'explore', 'wil', 'vocal', 'unfounate', 'tha', 'gas', 'kro', 'cycle', 'promised', 'built', 'keynote', 'tiger', 'ignores', 'caoon', 'salon', 'hepburn', 'breast', 'z', 'hopeful', 'mega', 'nicole', 'witch', 'mk', 'basket', 'landing', 'tht', 'ga', 'helpful', 'feliz', 'opposite', 'prefer', 'ye', 'annoyed', 'flame', 'custom', 'blatant', 'lucy', 'se', 'toronto', 'audience', 'henry', 'dubai', 'unable', 'hyped', 'grandmother', '4o4o4', 'unleashed', 'israeli', 'starbucks', 'exo', 'disaster', 'dreaming', 'gamer', 'ion', 'struggling', 'shown', 'surgery', 'saving', 'doggy', 'mostly', 'bbh', 'mam', 'private', 'hehe', 'prevail', 'victoria', 'landed', 'medal', 'eh', 'file', 'shipping', 'decent', 'baltimore', 'deceive', 'keith', 'versa', 'viewer', '400', 'ove', 'disabled', 'transfer', 'brutal', 'governor', '2013', 'plot', 'backwards', 'hollywood', 'tail', 'iconic', 'bent', 'decorative', 'foolish', 'beard', 'outcome', 'whisper', 'candy', 'clothing', 'pursue', 'grove', 'quack', 'grows', 'resignation', 'transformed', 'arguing', 'megan', 'apps', 'steady', 'aw', 'loneliness', 'visa', 'volatile', 'olive', 'attract', 'cheated', 'nab', 'cu', 'spoil', 'belongs', 'quad', 'cherish', 'threatening', '72', 'venice', 'unwavering', 'airline', 'pb', 'emotionally', 'concerned', 'fitting', 'wholesome', 'arab', 'blocking', 'politically', 'thalaivaa', 'electric', 'giggle', 'bean', 'toxic', 'ambassador', 'symptom', 'mummy', 'coconut', 'labour', '7pm', 'bangkok', 'stepdad', 'sexuality', 'critical', 'spoiled', 'ecstatic', 'inn', 'tease', 'secure', 'maria', 'atlanta', 'related', 'temporary', 'jacket', 'legit', 'slap', 'nottingham', 'pt', 'los', 'hiking', 'steam', 'susan', 'retire', 'mayor', 'defend', 'attends', 'jk', 'mill', 'aware', 'inspire', 'raf', 'yum', 'prepped', 'seeking', 'cardiff', 'isnt', 'trained', 'firefly', 'delegate', 'motorcycle', 'misogynist', '99p', 'calico', 'apament', 'meaning', 'bible', 'contagious', 'salut', 'enthusiasm', 'wide', 'relaxed', 'networking', 'constitution', 'gp', 'behavior', 'childish', 'avocado', 'mob', 'tweeter', '3b', 'spike', 'asap', 'scam', 'stem', 'juan', 'mornin', 'laura', 'ascot', 'watermelon', 'supply', 'doom', 'sealed', 'enchanting', 'beg', 'fund', 'narrative', 'tlc', 'designing', 'subtle', '800', '51', 'nov', 'selection', 'resign', 'buck', 'wid', 'raid', 'gin', 'height', '5k', 'lure', 'agr', 'monetary', 'reagan', 'shes', 'ray', 'lasted', 'leo', 'sd', 'heaache', 'helped', 'vincent', 'playoff', 'crush', 'whack', '1998', 'regard', 'breeze', 'philippine', 'agent', 'clicking', 'slammed', 'genetics', 'voltaire', 'various', 'tone', 'ceo', 'maintain', 'ke', 'chant', 'immediately', 'crude', 'chaos', 'mighty', 'latin', 'fare', 'van', 'prostitute', 'confession', 'manage', 'commute', 'nicola', 'hardest', 'daisy', '106', 'leftist', 'besides', 'sh', 'breathe', 'adveising', 'grandparent', 'pad', 'globe', 'taeil', 'curious', 'surrounded', 'gunna', 'responding', 'gud', 'joint', 'jessica', 'cutie', 'awww', 'laying', 'loyal', 'baking', 'divide', 'element', 'treason', 'buyer', 'introduce', 'brighton', 'cutting', 'triggered', 'legally', 'paicularly', 'affair', 'believed', 'experienced', 'lauren', 'economic', 'releasing', 'inauguration', '15th', 'dem', 'havin', 'reggae', 'paycheck', 'tumblr', 'dma', 'donor', 'motto', 'marine', 'discount', 'careful', 'hudson', 'cardinal', 'kern', 'hulk', 'bothered', 'bury', 'draymond', 'exit', 'valued', 'rice', 'visitor', 'performer', 'spirited', 'prime', 'charlotte', 'unlimited', 'fe', 'serving', 'gunman', 'subject', 'unemployment', 'sow', 'stair', 'afghan', 'straw', 'selena', 'replace', 'batman', 'flourishing', 'loses', 'unfair', 'dec', 'hai', 'minneapolis', 'lap', 'commerzbank', 'whoa', 'authority', 'slide', 'isolated', 'prettiest', 'icon', 'semitism', 'debut', 'storage', 'lobster', 'fade', 'captured', 'hometown', 'appalling', 'distress', 'veggie', 'ton', 'exclusive', 'commit', 'profit', 'depament', 'smaller', 'wouldnt', 'slut', 'victorious', 'skinny', 'throwback', 'hormone', 'alongside', 'grandfather', 'restore', 'friyay', 'honesty', 'argentina', 'veteran', 'britain', 'swap', 'colombia', 'spotlight', 'delightful', 'tmrw', 'engineering', 'deleted', 'attorney', 'extends', 'shopper', 'romance', 'disrespect', 'clap', 'bashing', 'alot', 'cruel', 'raising', 'shaved', 'jihad', 'oooh', 'properly', 'admin', 'bowl', 'flcrashcorrectors', 'khan', 'asia', 'pose', 'auction', 'similar', 'marketing', 'redneck', 'vivacious', 'camden', 'hitting', 'edge', 'blown', 'laid', 'council', 'unfit', 'webcam', 'cube', 'skip', 'abc', 'oldest', 'wealthy', 'stereotype', 'familiar', 'mount', 'discrimination', 'anon', 'fascist', 'investigation', 'hiding', 'pittsburgh', 'truthful', 'democratic', 'ghost', 'developer', 'curse', 'switch', 'mere', 'dressing', 'prop', 'theory', 'dipped', 'gray', 'puppet', 'ti', 'dee', 'etsy', 'onion', 'davis', 'wifi', 'wendy', 'intolerance', 'beginner', 'anime', 'injury', 'compassion', 'prepared', 'honour', 'balloon', 'valentine', 'meaningless', 'checkout', 'setup', 'brew', 'fighter', 'climate', 'eagle', 'endorsed', 'featuring', 'gained', 'openly', 'deeper', 'faded', 'stood', 'meme', 'spanish', 'snatched', 'exhausted', 'chelsea', 'earp', 'alleged', 'impressed', 'tennis', 'arrival', 'lola', 'dvr', 'houston', 'delay', 'charlie', 'luke', 'frog', 'awork', 'jp', 'cleaned', 'berlin', 'celebrates', 'multi', '76', 'submitted', 'petty', 'hung', 'exploring', 'estate', 'wallpaper', 'hooked', 'hundred', 'starring', 'committee', 'shed', 'despise', 'avenger', 'landholding', 'academy', 'proudly', 'gettin', 'repeating', 'ko', 'trek', 'webster', 'fallen', 'pot', 'jacob', 'au', 'dearly', 'flyer', 'hooligan', 'tactic', 'bentley', 'throughout', '39', 'happend', 'fascinating', 'slander', 'westpac', 'ounce', 'mentally', 'sunrise', 'midnight', 'guru', 'org', 'carnival', 'eight', 'evolution', 'deserved', 'venture', 's', 'cont', 'beware', 'cannon', 'denounce', 'assessment', 'rent', 'et', 'sketch', 'obamas', 'cunt', 'suppose', '9pm', 'hoo', 'jr', 'jar', 'crib', 'dread', 'pole', 'esteem', 'audition', 'monroe', 'gross', 'drum', 'donate', 'impressive', 'sore', '34', 'dish', 'deciding', 'presented', 'zen', 'confident', 'excite', 'appearance', 'brick', 'triumph', 'parenting', 'gratitude', 'wished', 'hint', 'aside', 'emea', 'appear', 'palm', 'protester', 'knw', 'brian', 'resident', 'charming', 'craft', 'creepy', 'elect', 'seasonal', 'bedroom', 'marry', 'core', 'renowned', 'approved', 'percent', '73', 'dedicated', 'baba', 'gee', 'encounter', 'elsewhere', 'murderer', 'psychological', 'accountable', 'puff', 'photograph', 'deadliest', '37', 'printed', 'ar', 'dislike', 'rub', 'goofy', 'steak', 'stole', 'internship', 'grader', '33', 'headache', 'rugby', 'te', 'combo', 'austin', 'ranger', 'rap', 'niece', 'cracked', 'bullied', 'empowering', 'chaser', 'alumnus', 'norm', 'anyways', 'cum', 'pearly', 'jewelry', 'virgin', 'luis', 'external', 'graceful', '10th', 'oeparceria', 'weakness', 'broadcast', 'suppoive', 'educate', 'edits', 'kylie', 'castle', 'bobby', 'prospect', 'requested', 'monsoon', 'allen', 'udta', 'coward', 'heabreak', 'suarez', 'trading', 'hmm', 'xo', 'usb', 'register', 'mma', 'cracking', 'chuffed', 'dese', 'greg', 'joyful', 'roger', 'mickey', 'hack', 'opponent', 'flood', 'righteous', 'midsummer', 'ink', 'repos', 'diary', 'minister', 'farewell', 'hella', 'riot', 'travelled', 'ivy', 'rental', 'ghazals', 'gospel', 'budget', 'gurl', 'jean', 'acknowledge', 'protected', 'xian', 'yield', 'automatic', 'beast', 'popcorn', 'returning', 'religious', 'wind', 'hahahaha', 'credibility', 'unforgettable', 'abe', 'bust', 'effos', 'wherever', 'occur', 'inbox', 'entitled', 'sided', 'beatz', 'hitler', 'sarah', 'critic', 'greater', 'kenya', 'gummy', 'delta', 'chester', '2000', 'rite', 'scheme', 'shore', 'cruz', 'canvas', 'va', 'slime', 'bd', 'monitor', 'pillow', 'appearing', 'resource', 'aft', 'presence', 'nitro', 'sponsoring', 'barack', 'woah', 'humor', 'ventura', 'army', 'isaac', 'reassuring', 'spy', 'faves', 'tin', 'tym', 'unhelpful', 'cleared', 'rafa', 'fg', 'segment', 'revenue', 'offensive', 'sudbury', 'hustle', 'stocking', 'hijacked', 'sink', 'greenspan', 'hbo', 'ultra', 'socialist', 'perceived', 'tasting', 'heals', 'discover', 'gameplay', 'resolve', 'roller', 'spinning', 'scout', 'amazingly', 'claimed', 'income', 'marble', 'rapper', 'marcus', 'felony', 'omits', 'spit', 'paperback', 'divorce', 'bash', 'continued', 'ahh', 'noooo', 'diff', 'bribe', 'cheryl', 'comprehensive', 'bombing', 'unite', 'nfl', 'easiest', 'eco', 'favor', 'andy', 'strolling', 'proving', 'junk', 'tackling', 'grill', 'darker', 'philadelphia', 'sequel', 'icymi', 'iced', 'crystal', 'renee', 'preorder', 'tic', 'decor', 'responder', 'hong', 'smashed', 'pdf', 'stroller', 'frozen', 'straighten', 'psychology', 'hacked', 'saudi', 'toured', 'ramadhan', 'exposed', 'harvest', 'cowboy', 'barrel', 'curly', 'explanation', 'perfume', 'alp', 'sip', 'comfy', 'lightweight', 'couesy', 'hidden', 'tennessee', 'tl', 'den', 'figgity', 'creature', 'folding', 'sabbath', 'parliament', 'kudos', 'surround', 'commentator', 'wimbledon', '74', 'dishonest', 'craziestpeoples', 'tryna', 'conveible', 'identity', 'engaging', 'understanding', '2days', 'device', 'native', 'schuster', 'bestfriends', 'ian', 'burst', 'servant', 'presumptive', 'ludicrous', 'cyclist', 'vigil', 'prayed', '19th', 'berry', 'saddle', 'asf', 'tule', '7th', 'apt', 'exec', 'scan', 'whining', 'upgraded', 'exact', 'trim', 'generous', 'roza', 'kilo', 'alice', '77', 'tracy', 'isle', 'wohy', 'error', 'rising', 'boating', 'excitem', 'naoyuki', 'ethnicity', 'architecture', 'rejection', 'graham', 'ditch', 'exci', 'playground', 'chile', 'catchup', 'soooooo', 'wor', 'cbs', 'queue', 'snooze', 'understatement', 'oxford', 'sach', 'ross', 'onda', 'persuade', 'otw', 'filling', 'accused', 'dinosaur', 'depaures', 'instagood', 'wud', 'analysis', 'garbage', 'hooray', 'nbc', 'precisely', 'directed', 'loaded', 'manipulation', 'elitist', 'envy', 'peaked', 'buried', 'division', 'hc', 'bow', 'acted', 'subtitle', 'hedgehog', 'stocked', 'roy', 'bridal', 'historical', 'marx', 'excess', 'bare', 'developing', 'educational', 'techno', 'motivational', 'elite', 'breakthrough', 'downloaded', 'solved', 'el', 'threaten', 'shave', 'tdc', 'smoothie', 'metal', 'jennifer', 'seminar', 'lgbtq', 'ii', 'vip', 'twisted', 'fathersdaymessage', 'flick', 'canal', 'halo', 'bros', '50th', 'facing', 'o', 'skype', 'facility', 'ukrunchat', 'simplest', 'hijacking', 'amid', 'license', 'censor', 'impo', 'klan', 'wisely', 'liquid', 'endorses', 'syndrome', 'bush', 'caturday', 'pakistan', 'moto', 'twist', 'wat', 'soundtrack', 'memorable', 'modeling', 'ni', 'penguin', 'vitiating', 'communal', 'forgiver', 'quillen', 'booster', '360', 'cell', 'deny', 'recall', 'gather', 'melania', 'joie', 'positivity', 'weigh', 'rabobank', 'nine', 'wisconsin', 'kansa', 'intellectual', 'gal', 'tolstoy', 'aching', 'amazed', 'pity', 'compilation', 'bdayspl', 'prototype', 'vijay', 'existence', 'campus', 'kiev', 'permanent', 'no1', 'hm', 'bora', 'netherlands', 'assured', 'muna', 'yellow', 'remotely', 'disagrees', 'daze', 'timeline', 'steve', 'sociopath', 'vaccine', 'jumper', 'journal', 'eats', 'bck', 'bailey', 'chf', 'pepper', 'giveaway', 'turkey', 'heavenly', 'employed', 'appropriate', 'magnificent', 'squirrel', 'inter', 'rewrite', 'twinklatinboys', 'ohio', 'dang', 'mmm', 'singapore', 'messy', 'gsw', 'electricity', 'hunt', 'understands', 'nxt', 'aye', 'remarkable', 'devastating', 'pregnancy', '30th', 'ojb', 'suspend', 'manner', 'reject', 'solo', 'neck', 'cincinnati', 'mentality', 'fearing', 'equipment', 'que', 'twtly', 'pablo', 'endless', 'appreciating', 'stella', 'destruction', 'mask', 'resolved', 'trainer', 'diamond', 'gd', 'spectrum', 'kentucky', '55', 'thou', 'comfoable', 'scenario', 'sponsor', 'splendid', 'capable', 'educated', 'linked', 'exposing', 'empire', 'extended', 'stall', '24hrs', 'contest', 'raspberry', 'condemn', 'there', 'utter', 'construction', 'publishing', 'screening', 'dnt', 'dope', 'speechless', 'scheduled', 'su', 'clueless', 'gum', 'brisbane', 'aspect', 'caer', 'survivor', 'serf', 'prior', 'limiting', 'magazine', 'roommate', 'controversy', 'australian', 'washed', 'explosion', 'bigot', 'throat', 'cuteness', 'loo', 'statistic', 'arsenal', 'rigged', 'knowledgeable', 'cooler', 'inch', 'palace', 'anthony', 'wen', 'lowest', 'courageous', 'provider', 'shipped', 'consequence', 'discussing', 'carving', 'engagement', 'eia', 'arena', 'siege', 'invest', 'maintenance', 'promo', 'thanking', '8am', 'herb', 'tix', 'doll', 'turner', 'cuppa', 'protein', 'unifying', 'www', 'energetic', 'rad', 'croatia', 'controversial', 'unique', 'locked', 'owe', 'rajan', 'lunchtime', 'vr', 'dex', 'proverb', 'accessory', 'thesis', 'moan', 'rarely', 'delight', 'patrick', 'twenty', 'assistant', 'tacloban', 'bummed', 'priceless', 'presenting', 'revenge', '85', 'fever', 'quietly', 'laundry', 'shld', 'autumn', 'spree', 'climbing', 'ijn', 'wah', 'scroll', 'conviction', 'dorm', 'blatantly', 'newly', 'il', 'vlog', 'lewis', 'brook', 'carlos', 'youuu', 'apaments', '09', 'define', 'stroke', 'panic', 'barn', 'glitter', 'convince', 'probs', 'yayyyy', 'traitor', 'warcraft', 'threw', 'rom', 'conscious', 'bihdaykazuki', 'alum', 'composed', 'organised', 'outburst', 'begs', 'destroying', 'fil', 'poc', 'antonio', 'updating', 'tu', 'xxxx', 'commentary', 'unfollowed', 'refused', 'sweater', 'biden', 'marseille', 'rocking', 'expand', 'carolina', 'biased', 'unnecessary', '58', 'jane', 'yah', 'awesomeness', 'jts88', 'guaranteed', 'grew', 'crow', 'tn', 'momentum', 'frustrating', 'lobby', 'tatay', 'windy', 'slot', 'cheaper', 'eur', 'infant', 'interracial', 'clash', 'integrity', 'rio', 'transformation', 'jet', 'mogage', 'spotify', 'matthew', 'subway', 'lite', '5am', 'sibling', 'albea', 'february', 'wolf', 'disrespectful', 'suppoed', '900', 'tolerance', 'verse', 'signal', 'spare', 'spokesperson', 'sweethea', 'secured', 'urself', 'invitation', 'fewer', 'terrified', 'kyrie', 'showtime', 'corrected', 'discussed', 'nashville', 'superstar', 'stylish', 'draghi', 'gravity', 'bei', 'registration', 'lemon', 'anderson', 'edible', 'oral', 'bat', 'remake', 'scrub', 'december', 'joseon', 'sob', '28th', 'gent', 'equally', 'influence', 'boob', 'torn', 'jun', 'haircut', 'elementary', 'walt', 'offline', 'unacceptable', 'ohhhhh', 'surface', 'wannabe', 'noticing', '88', 'thurs', 'audrey', 'cmon', 'barcelona', 'harmonious', 'horrifying', 'collapse', 'dutch', 'county', 'couch', 'footage', 'equate', 'winfrey', 'alien', 'uniform', 'insecurity', 'bikini', 'bistro', 'archery', 'resistance', 'taxpayer', 'disgust', 'thief', 'larry', 'replaced', 'neo', 'beloved', 'posing', 'constant', 'welfare', 'washing', 'mouthpiece', 'jelly', 'testimony', 'traditional', 'pint', 'teleprompter', 'twilight', 'vi', 'barbiets', 'sin', 'rhythm', 'glow', 'attacking', 'clinch', 'researcher', 'amanda', 'congratulate', 'booty', 'pete', 'arabian', '1pm', 'supremacy', 'gazal', 'snd', 'frame', 'nickname', 'motivated', 'aging', 'thin', 'ppy', '1400', 'ramsey', 'squeaking', 'brief', 'carol', 'frost', 'operation', 'wade', 'cud', 'opposed', 'melt', 'typing', 'privilege', 'chillin', 'lopezchiro', 'rapacious', 'aya', 'maza', 'panda', 'calendar', 'stupidity', 'sounding', 'messing', 'dip', 'focusing', 'yell', 'turmoil', 'plaster', 'southern', 'sophie', 'ceified', 'rainforest', 'ouch', 'identify', 'lifted', 'shiless', 'mantra', 'alabama', 'aicles', 'dignity', 'relation', 'shoutout', 'volunteer', 'minecraft', 'southwest', 'choke', 'lush', 'thanx', 'firing', 'ghana', 'ger', 'expo', 'awasome', 'establishment', 'epidemic', 'canceled', 'imperfection', 'fatty', 'someday', '3pm', 'achieved', 'andreas', 'lucas', 'rebound', 'charity', 'craziness', 'adve', 'optimism', 'kent', 'arrested', 'spray', '89', 'blu', 'witnessing', 'eva', 'vital', 'bon', 'tweeps', 'snake', 'spew', 'extension', 'tutorial', 'diner', 'parade', 'tt', 'repoing', 'responsibility', 'accidentally', 'penny', 'lovin', 'campaigning', 'loudly', 'slim', 'badger', 'mag', 'cr', 'alaska', 'moose', 'aldub', 'produced', '22nd', 'peanut', 'bnz', 'picnic', 'butter', 'jumping', 'valid', '35th', 'pipe', 'belated', 'gandhi', 'lb', 'emptiness', 'pirate', '2k', 'approx', 'aftr', 'pep', 'sweden', 'sucked', 'brace', 'exists', 'evans', 'fianc', 'alley', 'installation', 'macdonald', 'esp', 'islamist', 'bordeaux', 'outlook', 'entering', 'crappy', 'sic', 'select', 'grp', 'merely', 'knitting', 'vegetable', 'served', 'jewellery', 'wasting', 'sheboutit', 'myle', 'survived', 'punch', 'scratch', 'badass', 'sc', 'laughed', 'heyy', 'malaysia', 'amy', 'kajal', 'cricket', 'ambrose', 'eddie', 'mc', 'skiing', 'seller', 'rag', 'novel', 'salt', 'confuse', 'dining', 'ingredient', 'baked', 'acquired', 'pipeline', 'breed', 'shakur', 'poppy', 'p0etry', 'barry', 'publicity', 'liz', 'taiwan', 'collected', 'expansion', 'lime', 'visited', 'irresponsible', 'aboion', 'anonymous', 'gdp', 'behaving', 'councillor', 'deadline', 'poppin', 'rained', 'coat', 'tequila', 'comprehension', 'tackle', 'funy', 'suprised', 'fucker', 'indie', 'bachelorette', 'void', 'dye', 'teamwork', 'toilet', 'shill', 'sponsored', 'beau', 'fatherly', 'craig', 'inventive', 'dia', 'argue', 'wanker', 'succubus', 'frankly', 'transforming', 'hunting', 'uv', 'flex', 'violet', 'juneteenth', 'rooney', 'geek', 'page3', 'announcer', 'condone', 'wiping', 'zoro', 'mario', 'doe', 'slaughter', 'console', 'spotted', 'angie', 'cretin', 'inevitable', 'sensual', 'angeles', 'snail', 'thrilling', '2002', 'minion', 'bhakt', 'ordering', 'continuing', 'wrestling', 'frnd', 'beirut', 'finalist', '4am', 'cancun', 'boe', 'refreshed', 'cipd', 'spice', 'punish', 'bah', 'keeper', 'zoo', 'eyeing', 'cabin', 'hypocrite', 'muhbt', 'deepest', 'inventory', 'tied', 'chi', 'jackie', 'attica', 'pupil', 'welsh', 'cal', 'blk', 'skinned', 'chest', 'whit', 'iv', 'retarded', 'obligation', 'capitalism', 'rowling', 'chipotle', 'discovery', 'anytime', 'verified', 'smooth', 'unintentionally', 'reminded', 'motive', 'munich', 'yen', 'appy', 'moral', 'innocence', 'published', 'tolerated', 'corrupted', 'nigerian', 'alternate', 'removing', 'boarding', 'submission', 'newsletter', 'detroit', 'mystery', 'resolution', 'leicester', 'congressional', 'barrier', 'jazz', '92', 'population', 'evn', 'author', 'happyhappy', 'sagarika', 'mocked', 'object', 'membership', 'accuse', 'ebay', 'ork', 'yayyy', 'loop', 'rocket', 'repetitive', 'hooker', 'absence', 'snuggle', 'thunder', 'attest', 'shattered', 'touched', 'eliminate', 'wk', 'hen', 'cole', 'discussion', 'kathy', 'lingerie', 'raped', 'glove', 'soundcloud', 'incompetent', 'choir', 'who', 'bass', 'norway', 'strategy', 'lolol', 'usher', 'techjunkiejh', 'spell', 'wrapping', 'lecture', 'migrant', 'liberating', 'vanity', 'qc', 'edited', 'stunt', 'brazilian', 'donated', 'nil', 'tongue', 'pancake', 'fooled', 'folx', 'roosevelt', 'invade', 'mor', 'scandal', 'ferrari', 'melee', 'soar', 'finland', 'shuttle', 'punk', 'grocery', '2the', '96', 'fuss', 'weighs', 'eg', 'tx', 'contour', 'horribly', 'harbaugh', 'brow', 'promoted', 'pork', 'firework', 'dhoni', 'focused', 'steward', 'rc', 'sheriff', 'crayon', 'reel', '4wd', 'linstagram', 'lifetime', 'adrienne', 'brigade', 'sliding', 'wrapped', 'kiwi', 'blade', 'crony', 'judgment', 'bodrum', 'winding', 'gem', 'audio', 'depaure', 'vagabond', 'retrain', 'yunho', 'indulge', 'pakistani', 'alternative', 'jones', 'beloy', 'sitges', 'varying', 'aaa', 'belgian', 'marvelous', 'baker', 'jerk', 'gim', 'verona', 'safely', 'amongst', 'discontinued', 'breathing', 'scarf', 'inse', 'shaw', '2007', 'filmmaker', 'internal', 'descending', 'rachel', '300', 'xenophobic', 'fin', 'inning', 'islamophobia', 'muffin', 'associate', 'scenery', 'empower', 'crossing', 'mojo', 'eyan', 'pastry', 'yelling', 'teresa', 'civilian', 'outing', 'paners', 'nicely', 'nutshell', 'awarded', 'eden', 'soup', 'attracted', 'footie', 'whistling', 'fame', 'dennis', 'cuck', 'rbnz', 'reversed', '7000', 'pj', 'graco', 'extinct', 'booth', 'effectively', 'professor', 'prejudice', 'depend', 'default', '7950', 'champagne', 'hashtags', '100k', 'screw', 'franchise', 'catalyst', 'agreement', 'balayya', 'slag', 'touring', 'carmineryderrr', 'watering', 'opener', 'capture', 'starlight', 'psycho', 'repoers', 'optimist', 'intense', 'domain', 'iftar', 'hw', 'illness', 'fork', 'gif', 'rescued', 'pine', 'bierce', 'grieve', 'homicide', 'cash', 'cabinet', 'homophobia', 'kickoff', 'sprayed', 'conflict', 'boogie', 'dna', 'builder', 'suitcase', 'perry', 'bagel', 'sleeve', 'duke', 'churchill', 'cider', '7800', 'liv', 'desperately', 'louise', 'incapable', 'essence', 'excellence', 'debt', 'sneaky', 'butterfly', 'henderson', 'cigarette', 'needle', 'challenging', 'claiming', 'steel', '2nite', 'superman', 'ship', 'riddance', 'blissful', 'accessnetwork', 'ultimately', 'indecent', 'founder', 'math', 'wreck', 'wildlife', 'hangover', 'yur', 'capsule', 'loathing', 'handout', 'mutual', 'bst', 'marking', 'ck', 'hows', 'seth', 'auntie', 'norman', 'jenner', 'boxing', 'screenshot', 'ontario', 'jungle', 'treating', 'programmed', 'patriotism', 'cheating', 'ro', 'woohooo', 'instinct', 'dearest', 'ped', 'impress', 'maternity', 'iran', 'crushing', 'noble', 'flipping', 'slutty', 'disgraceful', 'peepz', 'manor', 'sparkle', 'satisfaction', 'veiled', 'costa', 'waving', 'wkend', 'pissed', 'floating', 'stolen', 'addressing', 'sucking', 'biblical', 'relief', 'fallout', 'coffe', 'laughable', 'duper', 'beating', 'amber', 'mlk', 'deliberately', 'administration', 'animaladvocate', 'digital', 'broader', 'nina', 'wound', 'stealing', 'uploaded', 'overloaded', 'flashback', 'prediction', 'md', 'bonjour', '1d', 'yard', 'format', 'testimonial', 'dental', 'halloran', 'bihdayyourmajesty', 'switching', 'opus', '1k', 'nancy', 'autograph', 'faithful', 'eaten', 'angelic', 'prevent', 'ek', 'technical', 'ebook', 'outstanding', 'whiskey', 'dairy', 'bluntly', 'florence', 'befriending', 'moore', 'klopp', 'jackblair', 'flooding', 'aladdin', 'symbol', 'hannah', 'pout', 'om', 'criticize', 'unmasking', 'damaged', 'dp', 'ng', 'stoppe', 'hmmm', 'neil', 'blunt', 'morality', 'nemo', 'thai', 'homophobic', 'competing', 'lefty', 'lid', 'ne', 'nbjc', 'realizing', 'benidorm', 'zombie', 'increasingly', 'smallest', 'possession', 'additional', 'bicycle', 'para', 'ly', 'ako', 'coworker', 'olympics', 'nerd', 'overwatch', '63', 'weighed', 'chilled', 'crab', 'caffeine', 'riyadh', 'gap', 'censored', 'elder', 'reserved', 'amaze', 'cuain', 'advisor', 'sequence', 'pointer', 'federal', 'goa', 'malcolm', 'unprofessional', '40th', 'ala', 'horizon', 'payment', 'superhero', 'collab', 'encourage', 'refined', 'tantrum', 'teddy', 'grilled', 'purple', 'coaster', 'ooooh', 'cred', '27th', 'spade', 'nzd', 'todo', 'tbh', 'condemned', 'diabetes', 'normalizing', 'coc', 'inclusivity', 'poop', 'rope', 'stance', 'software', 'warned', 'osaka', 'deplorable', 'bold', 'contested', 'willow', 'shos', 'wonderfully', 'ralph', 'cooked', 'decides', 'royalty', 'calorie', 'pofolio', 'rig', 'pune', 'firm', 'freezer', 'environmental', 'vulgar', '2006', 'abusive', 'rooted', 'suppression', 'outline', 'no', 'temecula', 'bigotry', 'chasing', 'tsa', 'observation', 'skilled', 'disappeared', 'nuuring', 'forecasted', '78', 'soulmate', 'approach', 'seattle', 'measured', 'baylor', 'inmate', 'robin', 'brit', 'winger', 'ron', 'ringing', 'neighbourhood', 'ima', 'pll', 'hannity', 'crain', 'linkedin', 'happily', 'representation', 'meditate', 'broad', 'reset', 'tapa', 'publicly', 'ofc', 'mason', 'sometime', 'peru', 'omw', 'tabarez', 'satellite', 'nuclear', 'declare', 'blogger', 'presidency', 'bud', 'motivate', 'quaer', 'inflame', 'terry', 'skyrim', 'remastered', 'wala', 'holly', 'inquiry', 'modified', 'sf', 'creator', 'involves', 'desse', 'coin', 'majestic', 'lacking', 'ciani', 'suzanne', 'banana', 'tasty', 'helpless', 'mentioning', 'freak', 'hilton', 'robbins', 'hive', 'seasoned', 'vogue', 'goblin', 'nonton', 'intrigue', 'phil', 'intermarket', 'dovish', 'dri', 'dxy', 'nipple', 'complained', 'defended', 'emtec', 'grandchild', 'gweh', 'dictatorial', 'nooo', 'removal', 'helen', 'sugar', 'betray', 'messaged', 'doug', 'poo', 'intolerant', 'senate', 'untill', 'backlash', 'vandal', 'twi', 'household', 'eeek', 'bubbly', 'entered', 'mammal', 'necessity', 'hunter', 'costume', 'detox', '2018', 'kerala', 'introduced', 'targeted', 'enroute', 'wwdc', 'gplay', 'harris', '8k', 'kayla', 'educator', 'derogatory', 'obsession', 'cigs', 'cecily', 'documented', 'filthy', 'karain', 'finance', 'scoring', 'quest', 'wright', 'liking', 'hasil', 'hymn', 'frwd', 'whoohoo', 'reversal', 'entrance', 'mayhem', 'physic', 'tonite', '10pm', 'weekender', 'weeksary', 'norfolk', 'polo', 'realised', 'epcot', 'kennel', 'korematsu', 'innovation', 'diaper', 'spicy', 'micro', 'guard', 'lib', 'understood', 'unstable', 'andrea', 'pond', '2pac', 'awwww', 'ap', 'awaits', 'decorating', 'enduring', 'previously', 'junaricrm', 'prompt', 'creamy', 'prez', '3yr', 'demanding', 'ownership', 'vulnerable', 'objective', 'roast', 'headphone', 'existed', 'seal', 'mcdonald', 'gunner', 'davey', 'erased', 'prosecco', 'grabbing', 'preacher', 'crashed', 'sexy404', 'flourish', '5lbs', 'humiliated', 'escaped', 'massachusetts', 'perfection', 'eternal', 'rotten', 'bi', 'engage', 'mourning', 'iloveyou', 'nationalbestfriendday', 'more', 'guilt', 'manhood', 'poorly', 'wiley', 'herd', 'mascot', 'par', 'socially', '1hr', 'backward', 'withdrawal', 'disregard', 'oak', 'eventually', 'betrayal', '11pm', 'waterfall', 'discharge', 'gg', 'grrr', 'oust', 'collector', 'motion', 'streak', 'scuba', 'wesley', 'landscape', 'retirement', 'slur', 'cheerleader', 'accomplishment', 'attic', 'volume', 'judged', 'disco', 'slavery', 'boj', 'baptist', 'shelf', 'athena', 'boycott', 'ronaldo', 'fascism', 'approaching', '120', 'neutrality', 'gm', 'renovation', 'ditching', 'nye', 'connoisseur', 'clare', 'galway', 'eastern', 'ambition', 'dragoneducation', 'cushion', 'boi', 'prolly', '5hrs', 'vindication', 'marvellous', 'opps', 'drawn', 'sixteen', 'lawmaker', 'boxer', 'fathersdayquotes', 'soing', 'magnet', 'multivitamin', 'immature', 'trans', 'bobo', 'chairman', 'jordan', 'forgetting', 'richie', 'vinci', 'xenophobia', 'category', '02', 'angus', 'occasion', 'kpop', 'penalty', 'delaying', 'wicked', 'insomnia', 'jai', '365', 'apologize', 'bristol', 'aversion', 'grip', 'uploading', 'manhattan', 'bopanna', 'marco', 'requires', 'unextraordinary', 'perma', 'francisco', 'clutch', 'reform', 'cove', 'yeahhh', 'nikki', 'delusional', 'painful', 'belly', 'tomato', 'vic', 'elephant', 'caridge', 'learnt', 'nearest', 'relieve', 'hike', 'zoological', 'oomf', 'unjust', 'theron', '175', 'dvd', 'rumor', 'tak', 'pointing', 'sketchbook', 'citation', 'lamb', 'cappuccino', 'julie', '2010', 'glory', 'credential', 'er', 'plaza', 'positively', 'sweetest', 'nyman', 'mic', 'queenie', 'creed', 'paicular', 'thirst', 'melted', 'pickle', 'bookstore', 'demise', 'freddie', 'entirely', 'legitimately', 'verge', 'jefferson', 'unwanted', 'embarrass', 'psychosis', 'dire', 'kik', 'fusionmadness', 'messi', 'cuties', 'judy', 'basti', 'cosplay', 'ss17', 'mint', 'juicy', 'exhibitor', 'overnight', 'betta', 'shy', 'permit', 'pointless', 'provoking', 'cassie', 'avenue', 'muller', 'aaron', 'wohooo', 'southampton', 'pill', 'boundary', 'pressed', 'amelia', 'vancouver', 'drowned', 'bogumday', 'dime', 'clarity', 'athletics', 'braid', 'accusation', 'dosti', 'dukhi', 'beutiful', 'aftermath', 'cuba', 'zomg', 'fragile', 'felling', 'tarot', 'peach', 'pace', 'adrenaline', 'blackberry', 'dismantle', 'affective', 'cycling', 'republic', 'insta', 'blah', 'intro', 'nicest', 'abroad', 'hayley', 'tuning', 'monica', 'needa', 'unlike', 'obnoxious', 'mehn', 'sickness', 'mourn', 'sized', '5sos', 'sprint', 'sync', 'fuelled', 'ranveer', 'astonished', 'glam', 'incite', 'ua', 'develop', 'responded', 'slimmer', 'x12', 'rationalize', 'fullest', 'todd', 'ham', 'balancing', 'acre', 'appt', 'liner', 'midweek', 'bullet', 'offical', 'stil', 'validation', '190k', 'galaxy', 'hardworking', 'employer', 'noone', '150', 'directing', 'mailbox', 'hopping', 'bankai', 'fitbit', 'ma', 'sour', 'illusion', 'wknd', 'ward', 'downloading', 'refreshing', 'tropical', 'wheres', 'cece', 'sinking', 'embarrassing', 'celtic', 'genre', 'vice', 'harmful', '118', 'healess', 'stfu', 'melissa', 'addiction', 'coaching', 'titanic', 'mp3', 'sends', 'hutchings', 'moe', 'favs', 'digit', 'defender', 'qualification', 'kindly', '97', 'playstation', 'sympathy', 'lettuce', '29th', 'soak', 'ufeellucky', 'rescue', 'breitba', 'pastel', 'insulting', 'mrrat395', 'dictator', 'regram', 'irate', 'cptplanespotter', 'rubio', 'blackmaverick12', 'atleast', 'flavour', 'bewitched', 'lois', 'aggressive', 'controlled', 'wayne', 'mmmm', 'protestors', 'balakrishna', 'metro', 'butto', '6pcs', 'handled', 'renewal', 'inferior', 'lbj', 'quaint', 'vid', 'jail', 'rk', 'lmaoo', 'duncan', 'sarcasm', 'map', 'replacement', 'flamingo', 'haley', 'joshua', 'pier', 'contempt', 'complicated', 'joshi', 'vineet', 'madly', 'piracy', 'passpo', 'reconnect', 'blew', 'fetish', 'fridge', 'latte', 'retweeting', 'assuming', 'harassment', 'xactaccounts', 'bug', 'surviving', '2yr', 'huffington', 'hangin', 'owlashop', 'itunes', 'discipline', 'favour', 'uh', 'flavor', 'indianapolis', 'longest', 'punished', 'dressage', 'rewarding', 'dept', 'acquainted', 'nationality', 'koran', 'hoodie', 'miller', 'asylum', 'rhonda', 'animation', 'brock', 'barber', 'charm', 'superior', 'slaughtering', 'suffered', 'homeland', 'anchor', 'lyft', 'dreamt', 'merry', 'psalm', 'wynonna', 'blink', 'weirdo', 'classified', 'oooo', 'pepsi', 'curiosity', 'flashing', 'ob', 'sharp', 'preordered', 'correctly', 'tubbytoons', 'farage', 'celebrains', 'mai', '140', 'korean', 'wrestler', 'glover', 'pressured', 'bali', 'investec', 'flapping', 'rohn', 'phew', 'bind', 'cam', 'arent', 'bump', 'invented', 'floridian', 'casting', 'declined', 'cali', 'offended', 'mubarak', 'bake', 'baiting', 'triple', 'nominate', 'jungkook', 'propey', 'viual', 'explained', 'instantly', 'waiter', 'decline', 'socafrenzy', 'saleh', 'kardashian', 'kong', 'pl', 'cave', 'blossom', 'output', 'tnx', 'exciteme', 'honored', 'sooner', 'volunteering', 'texting', 'underestimated', 'frontier', 'howe', 'replay', '4u', 'scoopwhoopnews', 'inability', 'fifty', 'edward', 'graphic', 'pe', 'mercedes', 'lov', 'haul', 'communist', 'learner', 'sleepy', 'hols', 'tragically', 'unconditional', 'imessage', 'allows', 'dismiss', 'irrelevant', 'gaf', 'geordie', 'jungkookday', 'unicorn', 'reminding', 'cod', 'anc', 'ferry', 'tds', 'wapo', '10am', 'belive', 'porait', 'renewing', 'nigel', 'wondered', 'forming', 'spreading', 'scenic', 'hugo', 'fallacy', 'snowball', 'contender', '47', 'destructive', 'dome', 'bisexual', 'cap', 'everest', 'malign', 'spoilt', 'sole', 'reader', '10003', 'reaching', 'introducing', 'reservation', 'thy', 'exhibit', 'rooting', 'yul', 'insensitive', 'dedicating', 'unbreakable', 'tub', 'comrade', 'aired', 'ac', 'shady', 'popped', 'simpson', 'increasing', '67', 'zara', 'gracious', 'hussein', 'carlton', 'trevor', '4b', 'cone', 'din', 'firenze', 'convo', 'substantive', 'hence', 'arresting', 'whipped', 'bieber', 'twat', 'venezuela', 'organized', 'absurd', 'principal', 'dean', 'oppose', '12th', 'resigned', 'salary', 'iowa', 'denied', 'cha', 'referring', 'fm', 'brandon', 'cocoa', 'sober', '2100', 'compliment', 'robbie', 'rixos', 'adventurous', '10353', 'confined', 'alwys', 'tidwoh', 'iron', 'aden', 'quits', 'ruby', 'factophobia', 'highlighting', 'no2', 'raider', 'matte', 'revolutionise', 'necessary', 'intern', 'staffordshire', 'punishing', 'hallelujah', 'govs', 'appealing', 'adolescent', 'weirdness', 'o2', 'gambling', 'commonwealth', 'philly', 'diddy', 'hut', 'cruelty', 'wilde', 'romania', 'bench', 'zuma', 'toasting', '95n', 'indicate', 'defo', 'involve', '4200', 'dadsday', 'washout', 'chancery', 'legislative', 'nest', 'nearby', 'gifted', 'omaha', 'temper', 'yikes', 'supplying', 'cob', 'facial', 'roughly', 'struck', 'handjob', 'dedication', 'hampstead', 'dahaq', 'emily', 'mourinho', 'ict', 'sharia', 'lowered', 'squid', 'whatsapp', 'pst', 'corp', '149', 'volley', 'lawn', 'friggen', 'avg', 'masaji', 'modric', 'cue', 'thoreau', 'offence', 'speedway', 'lan', 'withers', 'smear', 'polite', 'rhett', 'infiltrating', 'sangria', 'jfc', 'detected', 'frequently', 'eker', 'aswad', 'bleeding', 'exeter', 'rnc', 'twtl', 'irvine', 'soloman', 'wildfire', 'heeeeere', 'tremendous', 'cockatoo', 'spitting', 'relatively', 'bennett', 'honoring', 'merica', 'mba', 'skipped', 'natasha', 'unlucky', 'tommy', 'spends', 'senselessly', 'mankind', 'bo', 'unit', 'firstborn', 'catholic', 'goldmanworld', 'meyer', 'congressman', 'cupcake', 'practicing', 'chas', 'cleanse', 'dissolution', 'fluffy', 'ted', 'challenger', 'freshman', 'hypocritical', 'welcomed', 'undermine', 'choling', 'caputo', 'toure', 'contributes', 'tide', 'defunding', 'methinks', 'bummer', 'catapult', 'harv', 'rave', 'leigh', 'corrieeeeeee', 'aap', 'pineapple', 'hashmi', 'printing', 'rotterdam', 'alisa', 'maa', 'bargain', 'sits', 'clubbers', 'enrique', 'mxm', 'echo', 'charged', 'limelight', 'tact', 'gloss', 'aquarium', 'surge', 'scuffle', 'dubois', 'wooden', 'peshawar', 'lowry', 'aged', 'sid', 'harr', 'blanche', 'biz', 'capacity', 'mgaenp', 'thompson', 'effected', 'contrast', 'sean', 'watanabe', 'beth', 'organiser', 'burned', 'shocker', 'westerner', 'instructed', 'dandelion', 'islamophobes', 'sb', 'focking', 'pile', 'croatian', 'hamari', 'sone', 'kahani', 'emraan', 'ironing', 'baffle', 'onwards', 'boyle', 'lozza', 'peh', 'mabel', '48thweeksary', 'campbell', 'nff', 'mongering', 'mock', 'imitates', 'nh', 'sleepless', 'fellowship', 'encinitas', '2001', '56', 'concur', 'uphill', 'beh', '59', 'meringue', 'coffin', 'chukwu', 'muza', 'comparable', 'preston', 'godfather', 'experiment', 'beef', 'glimpse', 'stab', 'prejudicial', 'shockingly', 'spaghetti', 'projecting', 'mania', 'stoned', 'thankyoustudio', 'busted', 'candidacy', 'mustfall', 'affordable', 'bombed', 'tranquil', 'trusting', 'elbow', 'y6', 'edmonton', 'selah', 'shyan', 'wifehappylife', 'dammit', '720p', 'ita', 'jeep', 'thich', 'tue', 'nhat', 'hanh', '104', 'filth', 'vol', 'costing', 'defamed', '71', 'snug', '000001', 'polluting', 'niger', 'drained', 'repulsive', 'counted', 'alyssa', 'milo', 'yiannopoulos', 'tucson', 'volleyball', 'ilysm', 'fiddler', 'cashier', 'closely', 'seized', 'yassss', 'inform', 'soldier', 'etihad', 'nightclubber', 'slaughtered', 'cheesiest', 'seduced', 'vacay', 'whoopppp', 'heaed', 'penis', 'sudan', 'contribute', 'guardian', 'miriam', 'semifinal', 'dividing', 'az', 'ut', '7400', 'ooo', 'bingo', 'wasnt', 'postman', 'vagina', 'empathetic', 'suya', 'homecoming', 'chippy', '7b', 'owns', 'tm', 'inseion', 'excerpted', 'ver', 'stressing', 'internations', 'outcast', 'huin', 'jarretts', 'inflict', 'blaske', 'behalf', 'cologne', 'mtf', 'quay', 'banner', 'newyear', 'omfg', 'inconvenience', 'soggy', 'livestream', '23rd', 'mitt', 'zach', 'battleground', 'suspending', 'tossed', 'misery', 'handed', 'alchemist', 'selfishness', 'executive', 'regime', 'commie', 'heated', 'striving', 'birdsmovie', 'zille', 'faustus', 'shrink', 'lope', 'faceoff', 'unlocked', 'landmark', 'needing', 'delusion', 'whale', 'wwii', 'ambiance', 'demolished', 'curve', 'harsh', 'greencommunity', 'valdez', 'biher', 'nike', 'lyin', 'overseas', 'nonsensical', 'cutemuscleboys', 'sweep', 'driven', 'hourglass', 'wicket', 'freakin', '65', 'ebony', 'sahri', 'promising', 'akka', 'cheek', 'sideways', 'thier', 'affliction', 'countless', 'intellect', 'crushed', '2c', 'jehovah', 'cking', 'mowing', 'mixture', 'infamous', '15000', 'wristband', 'panty', 'deaf', 'handling', 'pedantic', 'alon', 'haaaaard', 'perception', 'sharply', 'pixion', 'warming', 'elsa', 'textbook', 'hiring', 'solomon', 'gatherer', 'saskatchewan', 'tysvm', 'rewardsgg', 'plethora', 'bcuz', 'consists', 'wellness', 'abstract', '1975', 'claw', 'waterfight', 'anguish', 'vermin', 'argued', 'violin', 'gardening', 'caroline', 'fashio', 'cathy', 'frnds', 'hatched', 'holaaa', 'lighter', 'dl', 'sewing', 'valuable', 'cite', 'lousy', 'peppermint', 'jamais', 'comfoably', 'shrewsbury', 'dumbest', 'expecting', 'angst', 'mandatory', 'corny', 'fw', '15k', 'grou', 'allison', 'dash', 'osborne', 'therefore', 'alison', 'diz', 'czech', 'epp', 'loyalty', 'wondrous', 'accompany', 'somerset', 'kayak', 'proscar', 'topping', 'soros', 'fleek', 'prescription', '94', 'interior', 'moi', 'bulk', 'urge', 'acoustic', 'owen', 'reception', 'warranty', 'cub', 'greets', 'tapestry', 'russell', 'parked', 'subjected', 'persian', 'drafted', 'stl', 'bestseller', 'fragility', 'bozo', 'fangirling', 'scar', 'flickering', 'housewife', 'ancient', 'ayesha', 'advise', 'ritual', 'tsem', 'listing', 'rinpoche', 'convene', 'foodie', 'ze', 'careless', 'mj', 'hospitality', 'damagers', 'theresa', 'emboldened', 'brie', 'elf', 'weybridge', 'freaken', 'demonic', 'fallon', 'ddnt', 'singalong', 'shameless', 'huing', 'largely', 'canyon', 'hop', 'bonhoeffer', 'expe', 'meter', 'porno', 'disana', 'darn', 'latinas', 'tolerate', 'strangely', 'rb', 'alw', 'bend', 'turkish', 'easter', 'enlightenment', 'naija', 'wilfully', 'stepped', 'mysterious', 'celeb', 'antaica', 'kin', 'vitamin', 'spongebob', 'flipper', 'obscene', 'constitute', 'hsp', 'abetting', 'ritz', 'euphoria', 'trace', 'dice', 'trader', 'wchs', 'mbm', 'samuel', 'keepu', 'elnella', 'hipster', 'dumping', 'casual', 'adore', 'trailing', 'sans', 'constituent', '3000', 'kiddy', 'por', 'stuffed', 'suggestion', '10millionmiler', 'unemployed', 'baffled', 'alienate', 'pasty', 'je', 'yeeeeee', 'formula', 'bosom', 'rod', 'toa', 'bailed', 'taping', 'bernanke', 'sib', 'tire', 'joyfulness', 'paddling', 'sunday24th', 'workbook', 'clark', 'condemning', 'blockd', 'winston', 'claimant', 'danced', 'happyness', 'waltz', 'revision', 'labeled', 'unappetizing', 'philosopher', 'bihay', 'shackle', 'zig', 'zag', 'ike', 'reincarnation', 'activate', 'bore', 'capturing', 'dana', 'banking', 'regulator', 'zoe', 'collaborate', 'springsteen', 'bitching', 'choo', 'saira', 'robust', 'discouraged', 'dealer', 'dawg', 'chatting', 'buzz', 'drumpf', 'directo', 'sue', 'hound', 'trouser', 'encountered', 'cathedral', 'initiative', 'abo', 'josephjett', 'defining', 'sdcc', 'shadowed', 'dictated', 'assassinating', 'connecticut', 'mg', 'gutter', 'bearish', 'freed', 'blackwood', 'explosive', 'discrepancy', 'folowers', 'rahe', 'expired', 'remaining', 'ent', 'rik', 'humpday', 'officiating', 'ttrusthim', 'sairam', 'classmate', 'axis', 'ufc', 'gangster', 'teary', 'lionel', '24h', 'rousey', 'python', 'prairie', 'jumped', 'campfire', 'gossiping', 'knight', 'mandy', 'improving', 'decker', 'ponsanooth', 'stain', 'mormon', 'hickstead', 'ksa', 'fulfilled', 'runner', 'damon', 'makeover', 'colorado', 'rift', 'nothin', 'nof', 'phc', 'incoherent', 'unrecognizable', 'holi', 'avoids', 'prisoner', 'funko', 'weddinganniversary', 'blackhawks', 'sweety', 'holibra', 'chansung', 'mosque', 'edwardsville', 'fandom', 'thrive', 'frahm', 'dependent', 'leftover', 'subscribe', 'ceification', 'hap', 'womp', 'reddit', 'pretties', 'casa', 'agrees', 'fattie', 'bernice', 'reference', 'maestro', 'flare', 'sassy', '110', 'filmed', 'thee', 'tornado', 'stockholm', 'explorer', 'checkoutmyflyer', 'yonge', 'token', 'thnx', '1000th', 'interviewed', 'nats', 'mari', 'cemetery', 'homosexuality', 'mistress', 'mcflurry', 'prix', 'equivalent', 'velour', '10days', 'wats', 'ladyzaradurose', 'impersonating', 'diepsloot', 'entrepreneur', 'mana', 'gracie', 'hugh', 'dh', 'duran', 'wakeman', 'mentoring', 'theft', 'adores', 'tissot', 'backstage', 'bam', 'meek', 'leisurely', 'inuit', 'nattaway2', 'ganges', 'ak420', 'glastonbury', 'bel', 'spider', 'mmmmm', 'ckkosho', 'ivan', 'bo3', 'disbanding', 'litter', 'wheelchair', 'postcard', 'bitcoiners', 'titan', 'botnek', 'thm', 'dysfunction', 'malli', 'indy', 'plexus', 'overused', 'oiz', 'kg', 'patriarchal', '81', 'livin', 'ella', 'railway', 'evenflo', 'climbed', 'peeled', 'filed', 'marina', 'rack', 'hooded', 'cavy', 'aumm', 'molly', 'alton', 'embarrassment', 'disgracing', 'tet', 'logan', 'indicted', 'policeman', '3102', 'everyones', 'recognise', 'kad', 'unwind', 'uchiha', 'sol', 'raya', 'ameen', 'crate', 'spoken', 'kan', 'vardy', 'expat', 'bitchy', 'immigrant', 'eveon', 'takda', 'treacy', 'hackett', 'grieving', 'banyak', 'mth', 'photoshopped', 'lemonade', 'ceiling', 'lizzie', 'fla', 'ily', 'hday', 'shakespeare', 'firecracker', 'mpumalanga', 'geared', 'baggery', 'romeo', 'teamspeak', 'adveise', 'wohwhile', 'lesbian', 'elgar', 'facepalm', 'resent', 'gatland', 'travis', 'barkley', 'lyk', 'luxury', 'basilio', 'remaster', 'biological', 'hum', '510', 'deluded', 'eff', 'nfs', 'margarita', 'toll', 'litle', 'underlying', 'skewed', 'andaelentari', 'dylan', 'follo', 'forcing', 'nr13', 'erect', 'syamozero', 'vendetta', 'midst', 'anchored', '714', '603', 'disadvantaged', '8860', '949', 'praising', 'bothering', 'pamela', 'wattpad', 'titled', 'inconsiderate', 'cnt', 'eachother', 'cairo', 'exquisite', 'guideline', 'roxie', 'fye', 'randomly', 'oxygen', 'timing', 'podium', 'brewery', 'mule', 'wana', 'expressed', 'butcher', 'instrument', 'gambino', 'distant', 'spad5', 'wbruchal', 'kimi', 'tablet', 'cobbler', 'scattered', 'choreo', 'tr', 'basel', 'miracle', 'sampling', 'kyle', 'finna', 'whined', 'racially', 'paw', 'whiteness', 'bbcworld', 'rly', 'dapper', 'install', 'slack', 'keyed', 'exposure', 'harambe', 'complex', 'reputation', 'peed', 'downtime', 'bloodshed', 'playin', 'odds', 'prosperous', 'nw', 'discretion', 'spectacular', 'pigwoman', 'bullish', 'stanford', 'grape', 'prosperity', 'sourcenation', 'hopkins', 'ramazan', '2morrow', 'shone', 'barkat', 'fiendtips', 'wahabism', 'marbella', 'vp', 'blair', 'homegirl', 'choking', 'invasive', 'doubtful', 'lend', 'murphy', 'donut', 'twt', '2tell', 'jpg', 'muscle', 'generate', 'woow', 'strengthen', 'drake', 'ventilation', 'bunt', 'gordo', '48hrs', 'nomura', 'murderous', 'fete', 'extreme', 'offspring', 'unfollow', 'funniest', 'disagreement', 'kazzeymusic', 'dinavalenz', 'legged', 'pok', 'firearm', 'pour', 'ballroom', 'rev', 'academic', 'grounded', 'teared', 'discredit', 'betrayed', 'sisterhood', 'communalise', 'chewing', 'markantalya', 'mainstream', 'tourism', 'antagonizing', 'mustache', 'encore', 'clpcreationsuk', 'edm', 'shootin', 'chinatown', 'conflates', 'pampered', 'rube', 'repressive', 'granny', 'reduced', 'tribal', 'glacier', 'cbn', 'irrational', 'housemate', 'requirement', 'petit', 'hardback', 'biscuit', 'flw', 'pretense', 'imma', 'judgement', 'surrogate', 'doj', 'reap', 'capital', 'in2', 'organisation', 'spectator', 'ensure', 'hrithik', 'upstairs', 'stalk', 'mua', 'jackal', 'scouting', 'liat', 'abraham', 'trafalgar', '16th', 'stmu', 'cringe', 'richard', 'kindest', '3425', 'ruled', 'blvd', 'melon', '3866', '65th', 'texted', 'patron', 'appetizer', 'couroom', 'rodriquez', 'revers', 'chrishon', 'sacramento', 'giddy', 'intend', 'battery', 'caffe', 'bham', 'chooses', 'xhaka', 'jackass', 'lovesong', 'opt', 'representative', 'quicker', 'amrica', 'syrian', 'alicia', 'adopting', 'thrill', 'twinkle', 'unleashes', 'brittany', 'desktop', 'jodi', 'lovable', 'champers', 'roasting', 'paranoid', 'nursery', 'nikkei', 'shallow', 'kiln', 'glazed', 'hazel', 'kp', 'fabric', 'audit', 'designer', 'ist', '8days', 'some1', 'slowing', 'poke', 'mmmiastar', 'sexest', 'raging', 'rated', 'aloha', 'lodge', 'kasich', 'ioc', 'scapelliti', 'allegation', '2horrific', 'retardo', 'theodore', 'stark', 'stored', 'ipod', 'eleanor', 'shaped', 'camo', 'endorse', 'recognized', 'oct', 'capitalist', 'realistic', 'fairy', 'aiming', 'feb', 'chk', 'trolled', 'ramzan', '3m', 'deficit', 'shope', 'panther', 'pulled', 'nou', 'investigator', 'zimbabwe', 'thumping', 'committing', 'mazara', 'villa', 'vicious', 'wang', 'beardy', 'frye', 'happybihday', 'salam', 'apocalyptic', 'lash', 'yeezy', 'glamping', 'smilin', 'suckin', 'word4word', 'oj', 'chanmi', 'successfully', 'blogging', 'thot', '4glte', 'essay', 'bb', 'knuckle', 'regain', 'sacrilege', '1300', 'saddens', 'bffs', 'depends', 'binoculars', '1997', 'dynamic', 'approve', 'iraq', 'vegetarian', 'commented', 'assignment', 'mounting', 'phantomaviation', 'obeying', '34th', 'ant', 'val', 'historian', 'morocco', 'bates', 'currency', 'compensated', 'issued', 'childfree', 'hacker', 'sg', 'nura', 'nysc', 'grandad', 'birdie', 'difficulty', 'zosh', 'black12iwhiteboy', 'cardo', 'scotus', 'runway', 'simmons', 'prod', 'workin', 'conf', 'abu', 'practically', 'chump', 'jea', 'raygun', 'bashed', 'newton', 'disavow', 'wordpress', 'georgia', 'ibar', 'comin', 'sheikh', 'margaret', 'wellybel', 'admitting', 'sl', 'linking', 'dayslinky', 'explaining', 'realizes', 'toures', 'coronial', 'inquest', 'ackroyd', 'julia', 'ilovethesecret', 'bihdayjohnnydepp', 'payet', 'montreal', 'retreat', 'marrying', 'ongoing', 'healthcare', 'intentional', 'elmo', 'derailed', 'compensating', 'nimrod', 'drain', 'bouncing', 'lube', 'recital', 'toothbrush', 'phoenix', 'revealing', 'elliott', 'disciple', 'celebs', 'naman', 'attendant', 'urgh', 'sp', 'picasso', 'dishonoured', 'bugger', 'rambling', 'miu', 'shuts', 'purr', 'vox', 'porch', 'tissue', 'pointed', 'insecure', 'shyt', 'watson', 'bhai', 'intervene', 'coooool', 'hindi', 'fiction', 'dawned', 'kinder', '560', 'insure', 'unspeakable', 'jonas', 'pope', 'pheonix', 'u10s', 'walkden', 'socgen', 'furore', '1070', 'grossly', 'drought', 'silky', 'accordingly', 'arin', 'dramatic', 'thoughtful', 'bihdayy', 'wrk', 'danbury', 'boss', '1280', 'whooooole', 'lotta', 'xc', 'jurgen', 'hairdresser', 'transgender', 'figuring', 'reliable', 'tricky', 'instill', 'olympic', 'mansion', 'defund', 'sumvah', 'toby', 'kagak', 'bisa', 'wading', 'gara2', 'wellies', 'commence', 'clannad', 'microsoft', 'stacy', 'apaheid', 'visible', 'dealt', 'illinois', 'faye', 'resnick', 'tae', 'addicted', 'adahzeh', 'wintergreen', 'deployed', 'argh', 'stable', 'zante', 'stepmom', 'rebel', 'weakest', 'whip', 'chim', 'multiculturalism', 'dwarf', 'bihdayjodistamaria', 'terrestrial', 'facetime', 'hobi', 'jayson', 'suga', 'weh', 'indiana', 'tense', 'stump', 'lemans', 'chelski', 'emi', '04pm', 'utc', 'cowardly', 'criss', 'relay', 'elegant', 'blading', 'disclosing', 'yey', 'fridayeveryone', 'stressed', 'salmon', 'vido', 'font', 'footballer', 'aso', 'paraguay', 'finmin', 'sri', 'temptation', 'seated', 'condescension', 'marie', 'shay', 'pajama', 'thehistorypic', 'sandler', 'loading', '42k', 'overdoses', 'strain', 'dresser', '6balls', 'badminton', 'immune', 'disgraced', 'micronesian', 'displaced', '8runs', 'nadal', 'stumble', 'advises', 'caribbean', 'fined', 'sumfest', 'grandson', 'ciao', 'accomplished', 'assembly', 'obesity', 'plage', 'adopted', 'lance', 'reconsider', 'animated', 'angelou', 'maya', 'anxious', 'argues', 'draining', 'helmet', 'enabler', 'corn', 'fynn', 'hail', 'hostility', 'origin', 'arby', 'cancellation', 'basta', 'gram', 'kc', 'existent', 'corroborated', 'wd', 'analyzing', 'eiko', 'beaut', 'yamashita', 'rabbit', 'vibrant', 'sabon', 'tra', 'ct', 'scrab', 'sussex', 'anfield', 'midfield', '2morro', 'chronically', 'sidney', 'younique', 'arc', 'ju', 'furious', 'grenade', 'sicker', 'allegiance', 'funk', 'tutor', 'grube', 'bittersweet', 'plastic', 'waffle', 'precise', 'territory', 'trojan', 'dt', '1930s', 'coke', 'nicaragua', 'hemisphere', 'captivity', 'jj', 'determination', 'remote', 'dub', '1995', 'wyonna', 'clicked', 'eklund', '4hr', 'simplistic', 'pointe', 'eagerly', 'obligated', 'calf', 'kno', 'shampoo', 'unbelievably', 'transform', 'lavender', 'pea', 'smack', 'falsely', 'hay', 'goaded', 'restrained', 'petercarey', 'chemistry', 'abba', 'hosted', 'jaan', 'upcycled', 'memphis', '2moro', 'andretti', 'deadly', 'goddess', 'lantern', 'cotton', 'tf', 'gulf', 'chaplin', 'looney', 'abuja', 'themed', '1744', 'passen', 'ariellesloth', 'cuss', 'tarnation', 'eurostar', 'varejao', 'heater', 'admire', 'maine', 'drying', 'heir', 'sturgeon', 'entitlement', 'wipe', 'amused', 'versatile', 'cloth', 'nintendo', 'forbidden', 'remained', 'drowning', 'checkpoint', 'filipino', 'jade', 'coolwallet', 'elegy', 'aaberg', 'aussie', 'muted', 'intention', 'rumi', 'alfredo', 'debacle', 'appreciates', 'cumple', 'halsey', 'ohh', 'bringin', 'byron', 'euphorix', 'indoors', 'psychopath', 'puddle', 'subscribed', 'pushed', 'kaya', 'miranda', 'delivering', 'stripe', 'rajo', 'homo', 'strongly', 'physically', 'parklife', 'knossos', 'applying', 'seaworld', 'lax', 'du', 'buliding', 'goon', '54', 'prerequisite', 'consideration', 'dose', 'began', 'owned', 'damned', 'tat', 'dongguan', 'camiilabeckeer', 'sincerely', 'chord', 'letest', 'dildo', 'nicer', '41', 'tourney', 'busty', 'module', 'confirms', 'sara', 'tampa', 'desde', 'coordinate', 'cheshire', 'coal', 'guarantee', 'sings', 'mudder', 'nebraska', 'longhorn', 'graffiti', 'voyage', 'grain', 'everymanager', 'cavett', 'intended', 'adveised', 'ankle', 'obstruction', 'maddy', 'yaaaaay', 'raw', 'schadenfreude', 'eaaa', 'geez', 'aruba', 'boro', 'ricky', 'memoriam', 'flopping', 'dismantled', 'installing', 'savannah', 'mediocre', '107', 'mckechnie', 'savagery', '60pa', 'festive', 'vodka', 'scumbag', 'toast', 'p3', 'dialogue', 'medicine', 'horn', 'steakhouse', 'acknowledges', 'overlap', 'winged', 'taunton', 'thanksgiving', 'bihdayameeshapatel', 'pol', 'criticized', 'fixing', 'incantation', 'spontaneously', 'hitchens', 'yayy', 'supposedly', 'disbelief', 'wks', 'resiliency', '9902', 'babygirl', 'hmu', 'messiha', 'satisfy', 'savesask', 'fundraising', 'landlord', 'incompetence', 'productivity', '97086', 'betv', 'problematic', 'allstars', 'neat', 'quoted', 'flor', 'cardstock', 'ottawa', 'envelope', 'littering', 'somewhat', 'hina', 'cabbage', 'somethings', 'mcguire', 'jackpot', 'frio', 'unfold', 'personesilenziose', 'unborn', 'convenient', 'bead', 'speculative', 'joseph', 'maru', 'blake', 'backing', 'unpacks', 'wav', 'wrecked', 'purse', 'pedophilia', 'kristin', 'alpha', 'siste', 'edmunds', 'mccormick', 'clarice', 'savile', 'complicit', 'gala', 'extent', 'implying', '1000x', 'sec', 'oslo', 'rv', 'def', 'overwhelmed', 'lucia', 'persuaded', 'ironically', 'worn', 'eternity', 'fairfax', 'treadmill', 'peachy', 'youngest', 'blending', 'bizziboo', 'ryt', 'boutique', 'supreme', 'louismainjr', 'mullah', 'accommodation', 'aniston', 'ashley', 'oveime', 'icecream', 'reinforced', 'harley', 'dancer', 'housing', 'enforcement', 'konik', 'eyez', 'thr', 'bakery', '91', '99x', 'satisfying', 'vida', 'suggest', 'deepu', 'pachay', 'pumping', 'nationalbestfriendsday', 'ruth', 'nun', 'moreeee', 'coolest', 'backseat', 'operating', 'association', 'aunty', 'shell', 'soppy', 'duh', 'pinned', 'spine', 'eligible', 'grooming', 'expes', '1977', '2think', '2leaps', 'cent', 'domino', 'howard', '3hrs', 'cult', 'communism', 'collect', 'suggested', 'crusader', 'concentrate', 'pac', 'energized', 'buna', 'commander', 'unveiled', 'marbs', 'kimmy', 'schmidt', 'rear', 'allergy', 'naughty', 'legsclub', 'barrack', 'virus', 'repugnant', 'couture', 'rac', 'handing', 'candid', 'shoage', 'dull', 'cookin', 'cornwall', 'ngo', 'rode', 'cramped', 'disturb', 'structure', 'bravo', 'abbyybelle', 'newpaper', 'effing', 'meaningful', 'familia', 'shoulder', 'meps', 'floral', 'cling', '7850', '03', 'kurd', 'unbiased', 'colorful', 'nvr', 'tdy', 'pause', 'karina', 'swine', 'ghazal', 'journo', 'swearing', 'shikari', 'oye', 'handbag', 'liquor', 'embroidered', 'punching', 'mainly', 'dominated', 'foitude', 'acu', 'victimized', 'hybrid', 'irreplaceable', 'disappear', 'paing', 'waterproof', 'teeny', 'rajkuamar', 'derek', 'topped', 'celie', 'mixtape', 'layer', 'semite', 'aimed', 'tagging', 'equity', 'sayin', 'cab', 'logical', 'orr', 'kevyn', 'introduces', 'ekiti', 'footy', 'darkest', 'soothing', 'ozzy', 'wearetech', 'thigh', 'alina', 'gateway', 'treacherous', 'lighting', 'branding', 'lou', 'outraged', 'annoy', 'thong', 'watered', 'briefing', 'hind', 'sundown', 'lift', 'retailer', 'traveller', 'cybersecurity', 'tommorrow', 'ltd', 'ish', 'paly', 'sincere', 'jesuschristempowerstransformation', 'scrap', 'tote', 'gregorian', 'forgive', 'brightened', 'spoing', 'impatiently', 'supp', 'nj', 'mofknz', 'milkyway24', 'piranaship', 'stubborn', 'sheep', 'sonic', 'malia', 'icepole', 'inconsistent', 'cutter', 'titty', 'diploma', 'baseless', 'trout', 'recover', 'polished', 'parcel', 'tulsa', 'frenzy', 'helix', 'douchebag', 'mockery', 'lancaster', 'lancashire', 'sobbing', 'comeback', 'devoted', 'bitten', 'smaer', 'smfh', 'indoor', 'narcissist', 'messenger', 'attendee', 't5', 'rendering', 'shag', 'superheroes', 'lds', 'keisha', '1960', 'reto', 'comparison', 'critique', 'crook', 'sadie', 'combination', 'aleers', 'melo', 'emailed', 'yg', 'questioned', 'deforestation', 'storyline', 'uncontrollably', 'fearful', 'fond', 'giftcard', 'minimum', 'elliot', '9100', 'x3', 'croft', 'dixie', '820', 'reggio', '866', 'homegrown', '3818', 'gordon', 'minnesota', 'tules', 'bcoz', 'ave', 'spam', 'spinach', 'seeker', 'fp', 'heroku', 'daria', 'string', 'homies', 'baes', 'ecourse', 'usofa', 'yeahhhh', 'sep', '12pm', 'yearly', 'edi', 'ursexiestmorena', 'cph', 'goood', 'dunkin', 'tristan', 'bloomed', 'exc', 'invisible', 'stats', 'rita', 'fundraiser', 'initiating', 'arkansas', 'mvp', 'ramon', 'branded', 'aspiring', 'niggaz', 'bourbon', 'lede', 'surrender', '3k', 'funded', 'limp', 'drank', 'kareem', 'glowing', 'kissing', 'predicting', 'haunt', 'regent', 'pulitzer', 'enteain', 'oskar', 'ambre', 'feta', 'sacrificed', 'kappa', 'txt', 'soap', 'unloads', 'hampered', 'airfare', 'essex', 'nod', '151', 'vow', 'goddamn', 'freshly', 'tomahawk', 'intervention', 'thane', 'cawdor', 'luminous', 'ahhhhh', 'carson', 'batch', 'depp', 'swinging', 'jamaica', '1350', 'merger', 'soooooooooo', 'sweaty', 'migrated', 'dunstable', 'ulit', 'pah', 'aspiration', 'iii', 'volatility', 'suite', 'kenyan', 'resume', 'env', 'defintely', 'ryder', '2900', 'weiner', 'akrotiri', 'unesco', 'sunflower', 'sneer', 'grammar', 'blanca', '04', 'bratton', 'trigger', 'registering', 'thelyvers', 'rickity', 'donoghue', 'tbt', 'montana', 'menorah', 'swastika', 'ooooooooooo', 'emojis', 'fifa', 'suffice', 'maidsafe', 'catering', 'encouraging', 'healthier', 'outdated', 'jake', 'nly', 'nooooo', 'intel', 'thingy', 'realization', 'banter', 'desensitized', 'ja', 'kristen', 'hiddleston', 'apathetic', 'rhino', 'flowing', 'belting', 'llc', 'nothng', 'wellbeing', 'colt', 'ife', 'candide', 'uyanze', 'drown', 'casualty', 'vps', 'astro', 'pleb', 'wp', 'truthfully', 'indefensible', 'bollywood', 'tou', 'choro', 'koi', 'sympathize', 'tk', 'biserjamesss726', 'therealflatfoot', 'banata', 'applies', 'liberalism', 'msm', 'mae', 'contingent', 'mango', 'medford', 'zedd', 'homeless', 'translation', 'challenged', 'ranking', 'enjoyment', 'rbi', 'ett', 'boil', 'wildly', 'sheer', 'raalhugandu', 'uae', 'politicizing', 'innovative', 'angela', 'meatloaf', 'jeffrey', '168', 'pasalubong', 'fc', 'ceased', 'cto', 'derby', 'stoop', 'cutys', 'islamism', 'phrase', 'pat', 'couney', 'morgan', 'ankara', 'headwind', 'flair', 'subscription', 'pa1', 'spawned', 'wohoo', 'booted', 'provided', 'pattinson', 'poolside', 'boasty', 'deadass', 'terrace', 'inactivity', 'nairobi', 'fck', '87', 'yawn', 'censoring', 'in', 'concurrency', 'recordsmanagerv8x', 'dayum', 'thankfully', 'gorge', 'denim', 'immigrated', 'karl', 'bles', 'jessi', 'rugged', 'shopped', 'yuge', 'hairy', 'istg', 'bigly', 'gian', 'overload', 'istore', 'henrico', 'fir', 'stabbed', 'libs', '7a', 'sunderland', 'feeder', 'samu', 'diaz', 'omit', 'sterling', 'ohhh', 'yung', 'improved', 'dom', 'knot', 'collapsing', 'lokey', 'bronze', 'fearless', 'gamers', 'foul', 'x24', 'marvel', 'tyra', 'positivementalattitude', 'pai', 'scare', 'balm', 'huddle', 'wore', '1987', 'lennar', 'tehaleh', 'kiki', 'globalists', '1984', 'fisher', 'bomber', 'refer', 'stoke', 'seaside', 'spf15', 'disappoint', 'zzzzzzzz', 'ahur', 'woori', 'assumption', 'midday', 'dayton', 'seventh', 'attempted', 'preference', 'apologist', 'homage', 'snatching', 'unnie', 'taeyeon', 'surgeon', 'stitch', 'der', 'thanku', 'kkd', 'talkin', 'highst', 'ssr', '192chandragupta', 'reduce', 'nandamuri', 'mastered', 'ootd', 'wer', 'brb', 'devastated', 'counter', 'sudden', 'motor', 'somethin', 'fairly', 'ol', 'fatherhood', 'pram', 'diving', 'tumor', 'skate', 'ci', 'eid', 'deputy', 'lone', 'columbia', 'rejoice', 'allergic', 'applied', 'redact', 'finer', 'hilary', 'pinterest', 'clay', 'plse', 'nonetheless', 'joker', 'refresher', 'savage', 'taxi', 'aud', 'episodic', 'bihdaytome', 'phenomenon', 'justification', 'projection', 'teespring', 'flipsidepa', 'chic', 'laurel', '2004', 'yha', 'helluva', '218', 'arrangement', 'candle', 'belt', 'flesh', 'saver', 'definitive', 'boise', 'onboard', 'migraine', 'mohammed', 'refers', 'restored', 'misogyny', 'stainless', 'plato', 'towel', 'stamp', 'waterloo', 'wank', 'trashing', 'malawi', 'stint', 'incurable', 'collective', 'greenglam', 'slam', 'pickin', '1a', 'sunk', 'impoantly', 'kindle', 'beaver', 'wardrobe', 'relaxation', 'proposed', 'basedbuddhadev', 'hotgamesandroid', 'reinstall', 'kyra', 'penn', 'graveyard', 'singh', 'enthusiastic', 'ken', 'distraction', 'chess', 'bruce', 'bein', 'judie', 'leakag', 'fuming', 'pasig', 'youtuber', 'mufg', 'joel', 'hairline', 'deceived', 'generosity', 'sage', 'padded', 'morn', 'extract', 'trippin', 'nuure', 'trampled', 'fringe', 'catalogue', 'uber', 'inspires', 'jobless', 'kate', 'jab', 'collecting', 'structured', 'ticked', 'colonialism', 'urgent', 'unk', 'gentlepassion4u', 'troubled', 'nigth', 'paicipating', 'cuailing', 'saturda', 'maximus', 'iam', '7months', 'tipping', 'borrowed', 'shatter', 'jeffery', 'beauregard', 'foolin', 'compliant', 'receipt', 'holder', 'yass', 'divine', 'babymonrosale', 'cyprus', 'addie', 'rosalee', 'idolized', 'quaerly', 'blowjob', 'wheeling', 'overwhelmingly', 'harper', 'scholar', 'blackmailed', 'sovereignty', 'disappearing', 'marsh', 'coco', 'birday', 'waldo', 'burr', '1803', 'pally', '1882', 'kumbaya', 'robeson', '2weeks', 'hyderabad', 'improvement', 'adn', 'maniac', 'kerr', 'yorkshire', 'netanyahu', 'roomie', 'afterward', 'rife', 'spewing', 'enteaining', 'alexmagic', 'fiend', 'imprint', 'nascar', 'behaviour', 'hatch', 'joyous', 'trio', 'hawk', 'paicipation', 'prosecute', 'garland', 'chitty', 'customized', 'olivia', 'couldnt', 'snatch', 'drafting', 'crowded', 'deplorables', 'reducing', 'boheme', 'rank', 'gutless', 'clever', 'analytics', 'beaming', 'beautifully', 'yorkers', 'brighter', 'rica', 'hoarse', 'hahahahah', 'geeze', 'qua', 'greedy', 'lass', 'begging', 'magnetize', 'geeked', 'ariana', 'wohless', 'mlb', 'ez', 'sheila', 'phit', 'developed', 'ehh', 'unstoppable', 'samantha', 'sparkling', 'deflect', 'sef', 'graf', 'yaar', 'backpack', 'camel', 'tab', '84', 'vroom', 'incessant', 'skating', 'manufacturer', 'assumed', 'oz', 'flea', 'powering', 'gemma', 'nooooooo', 'disheaening', 'viper', 'resonating', 'daffodil', 'awe', 'guessed', 'mtg', 'enrollment', 'spiced', 'humiliating', 'finstas', 'islamophobe', 'whispered', 'homophobe', 'backfired', 'kissed', 'minus', 'beautifull', 'bowing', 'tape', 'triumphant', 'lyf', 'ranked', 'apparent', 'lag', 'facce', 'dlc', 'compared', 'eject', 'multiply', 'manifesting', 'ledwell', 'luckily', 'hermes', 'rory', 'damien', 'welcoming', 'border', 'expanding', 'vista', 'furry', 'milestone', 'stan', 'gomez', 'permission', '240', 'nominated', 'eclipse', 'thrives', 'debra', 'zip', 'alfie', 'mata', '250', 'rani', 'unsatisfied', 'ranch', 'millennials', 'baender', 'temp', 'mesa', 'ukulele', 'hyundai', 'ery', 'strongest', 'hiatus', 'trait', 'dreamed', 'remembers', 'fulfilling', 'manning', '230', 'sab', 'bane', 'colin', 'printer', 'sadder', 'sleepover', 'peer', 'contacted', 'geographic', 'vase', 'imm', 'dakota', 'slapping', 'referee', 'unto', 'wrath', 'terminal', 'ellie', 'colored', 'syria', 'reg', 'ommmy', 'hid', 'locally', 'finalise', 'eyeshadow', 'healand', 'feast', 'tel', 'rakesh', 'offense', 'hva', 'steer', 'mv', 'sahur', 'curriculum', 'cable', 'knife', 'quench', 'garrix', 'weekday', 'womenmalayalam', 'editor', 'owes', 'rigging', 'framed', 'hq', 'palin', 'bridesmaid', 'loan', 'queenanelisse', 'ethnocentrism', 'clientele', 'gluten', 'milf', 'tit', 'nyt', 'ipsy', 'sounded', 'enticing', '1200', 'aol', 'bethesda', 'ww', 'mclain', 'rapping', 'ini', 'wr', 'unc', 'roam', 'mining', 'any1', 'specific', 'chipmunk', 'tinder', 'luth', 'atitude', 'residential', 'radicalism', 'cautious', 'moody', 'sporadic', 'defined', 'rounder', 'down', 'indefinite', 'pedophile', 'dentist', 'flaming', 'upsetting', 'historically', 'defines', 'heap', 'astounded', 'bernard', 'popping', 'aeon', 'wtfffff', 'nice1girl', 'compete', 'quebec', 'staircase', 'vm', 'broadband', 'bonkers', 'conflate', 'lem', 'gps', 'communicate', 'recharge', 'hardware', 'commits', 'installed', 'aiime', 'moynihan', 'donalds', 'ayer', 'exploiting', 'disappears', 'fountain', 'ow', 'spagetti', '31st', 'unlikely', 'daddie', 'cliff', 'notch', '2night', 'probed', 'carnage', 'frinds', 'peaky', 'recite', 'dua', 'ledger', 'accomplish', 'ramdan', 'apocalypse', 'yahoo', 'sr', 'sia', 'inked', 'crashing', 'bankruptcy', 'scrumy', 'cuddling', 'tavern', 'schoolgirl', 'karma', 'tara', 'moana', 'mex', '9am', 'jumat', 'kubang', 'serenity', 'bald', 'divisive', 'twinkie', 'narrow', 'packaging', 'haryana', 'hyper', 'bandit', 'scheduling', 'snafu', 'clpleader', 'pouring', 'spoiling', 'hefty', 'woken', 'representing', 'bathtub', 'hampton', 'approves', 'hamster', 'observed', '6b', '1b', '5h', 'exceptional', 'fn', 'lifter', 'adjustment', 'enjoyable', 'wilderness', 'schoolyard', 'incorporate', 'waaah', 'dnc', 'leisure', 'creep', 'lama', 'lollipop', 'newspaper', 'tiffany', 'coral', 'winnipeg', 'palladino', 'hyena', 'researching', 'christianity', 'scanning', 'urban', 'beckett', 'surf', 'ih', 'embodiment', 'peruvian', 'staged', 'miler', 'deen', 'dot', 'versus', 'ph', 'belfast', 'kimbo', 'fx', 'invasion', 'posse', 'zee', 'walnut', 'colbe', 'thyini', 'thiza', 'unpacking', 'skank', 'plead', '330', 'tbd', 'calif', 'vent', 'solidarity', 'rooftop', 'phuket', 'grabbed', 'nz', 'switched', 'huhuhuhu', 'foster', 'paypal', 'yumy']\n"
     ]
    }
   ],
   "source": [
    "print(model.wv.index_to_key)"
   ]
  },
  {
   "cell_type": "code",
   "execution_count": 50,
   "metadata": {},
   "outputs": [
    {
     "data": {
      "text/plain": [
       "array([-0.7805923 ,  0.9131082 ,  0.5113532 ,  0.13570943, -0.12575847,\n",
       "       -1.7939684 ,  0.45025775,  1.7801104 , -0.7941589 , -1.0572219 ,\n",
       "        0.15440331, -0.78316766,  0.02230429,  0.36793575,  0.33924127,\n",
       "       -0.5839232 ,  0.4436622 , -0.6482462 , -0.20646909, -1.6391269 ,\n",
       "        0.687732  ,  0.61866784,  0.9586177 , -0.29618922,  0.18157165,\n",
       "        0.2117336 ,  0.16031817, -0.08442115, -0.37667078, -0.01227106,\n",
       "        0.6447824 , -0.08588237,  0.61494803, -0.5478383 , -0.29019877,\n",
       "        1.4355892 ,  0.5992756 , -0.4168586 , -0.78226346, -1.2598016 ,\n",
       "        0.5359572 , -0.5691479 , -0.487071  , -0.02487347,  0.7014963 ,\n",
       "       -0.5321645 , -0.68495274, -0.04534176,  0.3314181 ,  0.69549024,\n",
       "        0.41342777, -0.17199855, -0.481749  , -0.0684639 , -0.6801129 ,\n",
       "        0.19623953,  0.8312727 , -0.2213892 , -1.0210879 ,  0.46699226,\n",
       "        0.42328498,  0.1430854 ,  0.07069661,  0.13580942, -0.35876992,\n",
       "        0.71472675,  0.15616572,  0.2422674 , -1.0867012 ,  0.7789328 ,\n",
       "       -0.18202952,  0.4710842 ,  0.85704243,  0.24538824,  1.3031011 ,\n",
       "        0.43867204,  0.40355873,  0.21253438, -0.01588614,  0.39711443,\n",
       "       -0.20913401,  0.25176978, -0.54936016,  0.34212193, -0.75019974,\n",
       "        0.0929317 ,  0.37351087,  0.10418827,  0.44419414,  0.9103982 ,\n",
       "        1.0658605 , -0.05077671, -0.07880061,  0.26878458,  1.839558  ,\n",
       "        0.86354554, -0.13605362, -0.7800764 ,  0.08737172,  0.31367505],\n",
       "      dtype=float32)"
      ]
     },
     "execution_count": 50,
     "metadata": {},
     "output_type": "execute_result"
    }
   ],
   "source": [
    "model.wv['day']"
   ]
  },
  {
   "attachments": {},
   "cell_type": "markdown",
   "metadata": {},
   "source": [
    "### Average sentence vectors \n",
    "<a href='https://cs.stanford.edu/~quocle/paragraph_vector.pdf'>Know More About It</a>"
   ]
  },
  {
   "cell_type": "code",
   "execution_count": 51,
   "metadata": {},
   "outputs": [],
   "source": [
    "def sent_vectorizer(sentence):\n",
    "    vector_size = model.wv.vector_size\n",
    "    wv_res = np.zeros(vector_size)\n",
    "    ctr = 1\n",
    "    for w in sentence:\n",
    "        if w in model.wv:\n",
    "            ctr+=1\n",
    "            wv_res+=model.wv[w]\n",
    "    wv_res = wv_res/ctr\n",
    "    return wv_res"
   ]
  },
  {
   "cell_type": "code",
   "execution_count": 52,
   "metadata": {},
   "outputs": [
    {
     "data": {
      "text/plain": [
       "array([-0.07538381,  0.17625958,  0.16022864,  0.02902961,  0.11073684,\n",
       "       -0.33069659,  0.0221958 ,  0.51074084, -0.17517995, -0.16041493,\n",
       "       -0.14331925, -0.39766389, -0.06290065,  0.08625665,  0.00206879,\n",
       "       -0.1972918 ,  0.02541585, -0.26063029, -0.0253872 , -0.50327716,\n",
       "        0.01344187,  0.0629345 ,  0.10593651, -0.10128224, -0.05800567,\n",
       "       -0.0111932 , -0.26898278, -0.19619687, -0.23841169, -0.05803348,\n",
       "        0.31554294,  0.07734561,  0.11383935, -0.10793112, -0.17392306,\n",
       "        0.22541393, -0.08812436, -0.2222034 , -0.11379677, -0.43612817,\n",
       "        0.01796007, -0.19255789, -0.18526494,  0.0027922 ,  0.19736383,\n",
       "       -0.05319177, -0.25030319, -0.0369911 ,  0.15559051,  0.19016616,\n",
       "        0.07150945, -0.21702308, -0.09077368,  0.1063291 , -0.05925108,\n",
       "        0.14854359,  0.1860938 , -0.10974165, -0.03228606,  0.04697086,\n",
       "        0.05548295,  0.11086507, -0.01546208,  0.05479263, -0.26190745,\n",
       "        0.23490331,  0.06773121,  0.09944506, -0.31649368,  0.3277691 ,\n",
       "       -0.17396174,  0.13839284,  0.2474432 , -0.04987897,  0.25932423,\n",
       "        0.13701662, -0.04815939, -0.13218144, -0.17538484, -0.02755694,\n",
       "       -0.10106107, -0.0199553 , -0.2265997 ,  0.32661564, -0.03291019,\n",
       "       -0.04008973, -0.08868679,  0.27778019,  0.25915611,  0.0670782 ,\n",
       "        0.22705468,  0.03130491, -0.02855832,  0.04937889,  0.36158528,\n",
       "        0.14666441,  0.13213358, -0.16939355,  0.07760614,  0.03558411])"
      ]
     },
     "execution_count": 52,
     "metadata": {},
     "output_type": "execute_result"
    }
   ],
   "source": [
    "sent_vectorizer('I am happy')"
   ]
  },
  {
   "cell_type": "code",
   "execution_count": 53,
   "metadata": {},
   "outputs": [
    {
     "name": "stderr",
     "output_type": "stream",
     "text": [
      "100%|██████████| 31962/31962 [00:02<00:00, 14601.61it/s]\n"
     ]
    }
   ],
   "source": [
    "w2v_tweet_vectors=[]\n",
    "for sent in tqdm(tweets):\n",
    "    w2v_tweet_vectors.append(sent_vectorizer(sent))"
   ]
  },
  {
   "attachments": {},
   "cell_type": "markdown",
   "metadata": {},
   "source": [
    "# Comparing various algorithms"
   ]
  },
  {
   "cell_type": "code",
   "execution_count": 54,
   "metadata": {},
   "outputs": [],
   "source": [
    "lr = LogisticRegression()\n",
    "dt = DecisionTreeClassifier()\n",
    "knn = KNeighborsClassifier()\n",
    "rf = RandomForestClassifier()\n",
    "\n",
    "models = [\n",
    "    [lr,'LogisticRegression'],\n",
    "    [dt,'DecisionTreeClassifier'],\n",
    "    [knn,'KNeighborsClassifier'],\n",
    "    [rf,'RandomForestClassifier']\n",
    "]"
   ]
  },
  {
   "cell_type": "code",
   "execution_count": 55,
   "metadata": {},
   "outputs": [],
   "source": [
    "def run(x,y,models):\n",
    "    x_train , x_test , y_train , y_test = train_test_split(x,y,test_size=0.2)\n",
    "    accuracy=[]\n",
    "    for model in tqdm(models):\n",
    "        model[0].fit(x_train,y_train)\n",
    "        score = model[0].score(x_test,y_test)\n",
    "        score = float(\"{:.4f}\".format(score))\n",
    "        accuracy.append([model[1],score])\n",
    "    return accuracy\n"
   ]
  },
  {
   "cell_type": "code",
   "execution_count": 56,
   "metadata": {},
   "outputs": [
    {
     "name": "stderr",
     "output_type": "stream",
     "text": [
      "100%|██████████| 4/4 [00:31<00:00,  7.89s/it]\n",
      "100%|██████████| 4/4 [00:30<00:00,  7.67s/it]\n",
      "100%|██████████| 4/4 [00:42<00:00, 10.58s/it]\n"
     ]
    }
   ],
   "source": [
    "bow_accuracy = run(bow_tweet_vectors,label,models)\n",
    "tfidf_accuracy = run(tfidf_tweet_vectors,label,models)\n",
    "w2v_accuracy = run(w2v_tweet_vectors,label,models)"
   ]
  },
  {
   "cell_type": "code",
   "execution_count": 57,
   "metadata": {},
   "outputs": [
    {
     "name": "stdout",
     "output_type": "stream",
     "text": [
      "[['LogisticRegression', 0.9482], ['DecisionTreeClassifier', 0.9329], ['KNeighborsClassifier', 0.9459], ['RandomForestClassifier', 0.9454]]\n",
      "[['LogisticRegression', 0.9434], ['DecisionTreeClassifier', 0.9366], ['KNeighborsClassifier', 0.9373], ['RandomForestClassifier', 0.9484]]\n",
      "[['LogisticRegression', 0.9329], ['DecisionTreeClassifier', 0.8888], ['KNeighborsClassifier', 0.9302], ['RandomForestClassifier', 0.9481]]\n"
     ]
    }
   ],
   "source": [
    "print(bow_accuracy)\n",
    "print(tfidf_accuracy)\n",
    "print(w2v_accuracy)"
   ]
  },
  {
   "cell_type": "code",
   "execution_count": 58,
   "metadata": {},
   "outputs": [],
   "source": [
    "accuracy = {'model_name':[i[1] for i in models],\n",
    "            'bow_accuracy':[str(i[1]*100)+'%' for i in bow_accuracy],\n",
    "            'tfidf_accuracy':[str(i[1]*100)+'%' for i in tfidf_accuracy],\n",
    "            'w2v_accuracy':[str(i[1]*100)+'%' for i in w2v_accuracy]\n",
    "            }\n",
    "\n",
    "accuracy_data = pd.DataFrame.from_dict(accuracy)"
   ]
  },
  {
   "cell_type": "code",
   "execution_count": 59,
   "metadata": {},
   "outputs": [
    {
     "data": {
      "text/html": [
       "<div>\n",
       "<style scoped>\n",
       "    .dataframe tbody tr th:only-of-type {\n",
       "        vertical-align: middle;\n",
       "    }\n",
       "\n",
       "    .dataframe tbody tr th {\n",
       "        vertical-align: top;\n",
       "    }\n",
       "\n",
       "    .dataframe thead th {\n",
       "        text-align: right;\n",
       "    }\n",
       "</style>\n",
       "<table border=\"1\" class=\"dataframe\">\n",
       "  <thead>\n",
       "    <tr style=\"text-align: right;\">\n",
       "      <th></th>\n",
       "      <th>model_name</th>\n",
       "      <th>bow_accuracy</th>\n",
       "      <th>tfidf_accuracy</th>\n",
       "      <th>w2v_accuracy</th>\n",
       "    </tr>\n",
       "  </thead>\n",
       "  <tbody>\n",
       "    <tr>\n",
       "      <th>0</th>\n",
       "      <td>LogisticRegression</td>\n",
       "      <td>94.82000000000001%</td>\n",
       "      <td>94.34%</td>\n",
       "      <td>93.28999999999999%</td>\n",
       "    </tr>\n",
       "    <tr>\n",
       "      <th>1</th>\n",
       "      <td>DecisionTreeClassifier</td>\n",
       "      <td>93.28999999999999%</td>\n",
       "      <td>93.66%</td>\n",
       "      <td>88.88000000000001%</td>\n",
       "    </tr>\n",
       "    <tr>\n",
       "      <th>2</th>\n",
       "      <td>KNeighborsClassifier</td>\n",
       "      <td>94.59%</td>\n",
       "      <td>93.73%</td>\n",
       "      <td>93.02%</td>\n",
       "    </tr>\n",
       "    <tr>\n",
       "      <th>3</th>\n",
       "      <td>RandomForestClassifier</td>\n",
       "      <td>94.54%</td>\n",
       "      <td>94.84%</td>\n",
       "      <td>94.81%</td>\n",
       "    </tr>\n",
       "  </tbody>\n",
       "</table>\n",
       "</div>"
      ],
      "text/plain": [
       "               model_name        bow_accuracy tfidf_accuracy  \\\n",
       "0      LogisticRegression  94.82000000000001%         94.34%   \n",
       "1  DecisionTreeClassifier  93.28999999999999%         93.66%   \n",
       "2    KNeighborsClassifier              94.59%         93.73%   \n",
       "3  RandomForestClassifier              94.54%         94.84%   \n",
       "\n",
       "         w2v_accuracy  \n",
       "0  93.28999999999999%  \n",
       "1  88.88000000000001%  \n",
       "2              93.02%  \n",
       "3              94.81%  "
      ]
     },
     "execution_count": 59,
     "metadata": {},
     "output_type": "execute_result"
    }
   ],
   "source": [
    "accuracy_data.head()"
   ]
  }
 ],
 "metadata": {
  "kernelspec": {
   "display_name": "ml",
   "language": "python",
   "name": "python3"
  },
  "language_info": {
   "codemirror_mode": {
    "name": "ipython",
    "version": 3
   },
   "file_extension": ".py",
   "mimetype": "text/x-python",
   "name": "python",
   "nbconvert_exporter": "python",
   "pygments_lexer": "ipython3",
   "version": "3.9.16"
  },
  "orig_nbformat": 4
 },
 "nbformat": 4,
 "nbformat_minor": 2
}
